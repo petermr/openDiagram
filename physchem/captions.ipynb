{
 "cells": [
  {
   "cell_type": "code",
   "execution_count": 1,
   "metadata": {
    "button": false,
    "collapsed": false,
    "deletable": true,
    "new_sheet": false,
    "run_control": {
     "read_only": false
    }
   },
   "outputs": [
    {
     "name": "stdout",
     "output_type": "stream",
     "text": [
      "Fri 27 Nov 2020 08:29:24 GMT\n",
      "projects\n"
     ]
    }
   ],
   "source": [
    "# figures and captions\n",
    "%matplotlib inline\n",
    "\n",
    "from pathlib import Path\n",
    "import os\n",
    "\n",
    "HOME = str(Path.home())\n",
    "PROJECTS = os.path.join(HOME, \"projects\")\n",
    "WORKSPACE = os.path.join(HOME, \"workspace\")\n",
    "JUPYTER = os.path.join(WORKSPACE, \"jupyter\")\n",
    "\n",
    "\n",
    "!date\n",
    "print(\"projects\")"
   ]
  },
  {
   "cell_type": "code",
   "execution_count": 2,
   "metadata": {
    "button": false,
    "collapsed": true,
    "deletable": true,
    "new_sheet": false,
    "run_control": {
     "read_only": false
    }
   },
   "outputs": [],
   "source": [
    "PHYSCHEM = os.path.join(JUPYTER, \"physchem\") \n",
    "PHYSCHEM_IMAGES = os.path.join(PHYSCHEM, \"images\") \n",
    "PHYSCHEM_HTML = os.path.join(PHYSCHEM, \"html\") "
   ]
  },
  {
   "cell_type": "code",
   "execution_count": 3,
   "metadata": {
    "button": false,
    "collapsed": true,
    "deletable": true,
    "new_sheet": false,
    "run_control": {
     "read_only": false
    }
   },
   "outputs": [],
   "source": [
    "# BATTERY = os.path.join(PROJECTS, \"open-battery\")\n",
    "PROJECT_DIR = os.path.join(PHYSCHEM, \"liion\")\n",
    "# os.chdir(PROJECT_DIR)\n",
    "# os.listdir()"
   ]
  },
  {
   "cell_type": "code",
   "execution_count": 4,
   "metadata": {
    "button": false,
    "collapsed": true,
    "deletable": true,
    "new_sheet": false,
    "run_control": {
     "read_only": false
    }
   },
   "outputs": [],
   "source": [
    "debug = True\n",
    "ml = False"
   ]
  },
  {
   "cell_type": "code",
   "execution_count": 5,
   "metadata": {
    "button": false,
    "collapsed": false,
    "deletable": true,
    "new_sheet": false,
    "run_control": {
     "read_only": false
    },
    "scrolled": false
   },
   "outputs": [
    {
     "name": "stderr",
     "output_type": "stream",
     "text": [
      "/opt/anaconda3/lib/python3.8/site-packages/skimage/viewer/utils/__init__.py:1: UserWarning: Recommended matplotlib backend is `Agg` for full skimage.viewer functionality.\n",
      "  from .core import *\n"
     ]
    }
   ],
   "source": [
    "import Tesseract as tt\n",
    "# print(tt.pytesseract.version)\n",
    "import pytesseract36 as pytesseract"
   ]
  },
  {
   "cell_type": "code",
   "execution_count": 6,
   "metadata": {
    "button": false,
    "collapsed": false,
    "deletable": true,
    "new_sheet": false,
    "run_control": {
     "read_only": false
    }
   },
   "outputs": [
    {
     "name": "stdout",
     "output_type": "stream",
     "text": [
      "Tesseract ctr\n",
      "init-ed\n",
      "end ctr images/capacitycycle.png\n",
      "osd: \n",
      " Page number: 0\n",
      "Orientation in degrees: 0\n",
      "Rotate: 0\n",
      "Orientation confidence: 2.34\n",
      "Script: Latin\n",
      "Script confidence: 6.67\n",
      "\n",
      "dict  {'page_num': 0, 'orientation': 0, 'rotate': 0, 'orientation_conf': 2.34, 'script': 'Latin', 'script_conf': 6.67}\n"
     ]
    }
   ],
   "source": [
    "tesseract = tt.Tesseract()\n",
    "osd =tesseract.get_osd()\n",
    "dict = pytesseract.osd_to_dict(osd)\n",
    "print(\"dict \", dict)\n",
    "#xx = tesseract.test()"
   ]
  },
  {
   "cell_type": "code",
   "execution_count": 7,
   "metadata": {
    "button": false,
    "collapsed": true,
    "deletable": true,
    "new_sheet": false,
    "run_control": {
     "read_only": false
    }
   },
   "outputs": [],
   "source": [
    "import glob\n",
    "os.chdir(PROJECT_DIR)\n",
    "figures = glob.glob(\"PMC*/sections/fig*/*.xml\")\n",
    "# print(len(figures))"
   ]
  },
  {
   "cell_type": "code",
   "execution_count": 8,
   "metadata": {
    "button": false,
    "collapsed": false,
    "deletable": true,
    "new_sheet": false,
    "run_control": {
     "read_only": false
    }
   },
   "outputs": [
    {
     "name": "stdout",
     "output_type": "stream",
     "text": [
      "begin tesseract\n",
      "end tesseract\n"
     ]
    }
   ],
   "source": [
    "# https://pypi.org/project/pytesseract/\n",
    "try:\n",
    "    from PIL import Image\n",
    "except ImportError:\n",
    "    import Image\n",
    "\n",
    "\n",
    "print(\"begin tesseract\")\n",
    "\n",
    "# If you don't have tesseract executable in your PATH, include the following:\n",
    "# pytesseract.pytesseract.tesseract_cmd = r'/#usr/local/bin/tesseract'\n",
    "# Example tesseract_cmd = r'C:\\Program Files (x86)\\Tesseract-OCR\\tesseract'\n",
    "print(\"end tesseract\")\n"
   ]
  },
  {
   "cell_type": "code",
   "execution_count": 9,
   "metadata": {
    "button": false,
    "collapsed": false,
    "deletable": true,
    "new_sheet": false,
    "run_control": {
     "read_only": false
    }
   },
   "outputs": [
    {
     "name": "stdout",
     "output_type": "stream",
     "text": [
      "/Users/pm286/workspace/jupyter/physchem\n"
     ]
    },
    {
     "data": {
      "text/plain": [
       "\"\\nif debug:\\n    image = Image.open(test_png, 'r')\\n\\n    # viewer = ImageViewer(image)\\n    # viewer.show()\\n    tesseract_strings = pytesseract.image_to_string(Image.open(test_png))\\n    print(tesseract_strings)\\n\""
      ]
     },
     "execution_count": 9,
     "metadata": {},
     "output_type": "execute_result"
    }
   ],
   "source": [
    "if __name__ == '__main__':\n",
    "    pass\n",
    "\n",
    "os.chdir(PHYSCHEM)\n",
    "from PIL import Image\n",
    "\n",
    "print(os.getcwd())\n",
    "test_png = os.path.join('images', 'capacitycycle.png')\n",
    "test_image = Image.open(test_png, 'r')\n",
    "\n",
    "import matplotlib\n",
    "import matplotlib.pyplot as plt\n",
    "import numpy as np\n",
    "%matplotlib inline\n",
    "\n",
    "from skimage import data, img_as_float\n",
    "from skimage import exposure\n",
    "from skimage.viewer import ImageViewer\n",
    "\n",
    "\"\"\"\n",
    "if debug:\n",
    "    image = Image.open(test_png, 'r')\n",
    "\n",
    "    # viewer = ImageViewer(image)\n",
    "    # viewer.show()\n",
    "    tesseract_strings = pytesseract.image_to_string(Image.open(test_png))\n",
    "    print(tesseract_strings)\n",
    "\"\"\""
   ]
  },
  {
   "cell_type": "code",
   "execution_count": 10,
   "metadata": {
    "button": false,
    "collapsed": false,
    "deletable": true,
    "new_sheet": false,
    "run_control": {
     "read_only": false
    },
    "scrolled": true
   },
   "outputs": [
    {
     "name": "stdout",
     "output_type": "stream",
     "text": [
      "S 166 0 184 0 0\n",
      "p 169 0 199 0 0\n",
      "e 188 0 203 0 0\n",
      "c 205 0 221 0 0\n",
      "i 223 0 238 0 0\n",
      "f 241 0 244 0 0\n",
      "i 24 \n",
      "...\n",
      " 663 76 0\n",
      "~ 126 94 799 640 0\n",
      "2 758 52 774 76 0\n",
      "0 777 52 792 76 0\n",
      "0 795 52 810 76 0\n",
      "0 813 52 828 76 0\n",
      "\n"
     ]
    }
   ],
   "source": [
    "# In order to bypass the image conversions of pytesseract, just use relative or absolute image path\n",
    "# NOTE: In this case you should provide tesseract supported images or tesseract will return error\n",
    "# print(pytesseract.image_to_string('test.png'))\n",
    "\n",
    "# Batch processing with a single file containing the list of multiple image file paths\n",
    "# print(pytesseract.image_to_string('images.txt'))\n",
    "\n",
    "# Timeout/terminate the tesseract job after a period of time\n",
    "\"\"\"\n",
    "try:\n",
    "    print(pytesseract.image_to_string('test.jpg', timeout=2)) # Timeout after 2 seconds\n",
    "    print(pytesseract.image_to_string('test.jpg', timeout=0.5)) # Timeout after half a second\n",
    "except RuntimeError as timeout_error:\n",
    "    # Tesseract processing is terminated\n",
    "    pass\n",
    "\"\"\"\n",
    "# Get bounding box estimates\n",
    "if debug:\n",
    "    bboxes = pytesseract.image_to_boxes(Image.open(test_png))\n",
    "    print(bboxes[:100], \"\\n...\\n\", bboxes[-100:])"
   ]
  },
  {
   "cell_type": "code",
   "execution_count": 11,
   "metadata": {
    "button": false,
    "collapsed": false,
    "deletable": true,
    "new_sheet": false,
    "run_control": {
     "read_only": false
    },
    "scrolled": true
   },
   "outputs": [
    {
     "name": "stdout",
     "output_type": "stream",
     "text": [
      "<class 'str'> \n",
      " level\tpage_num\tblock_num\tpar_num\tline_num\tword_num\tleft\ttop\twidth\theight\tconf\ttext\n",
      "1\t1\t0\t0\t0\t0\t0\t0\t830\t652\t-1\t\n",
      "2\t1\t1\t0\t0\t0\t2\t93\t38\t393\t-1\t\n",
      "3\t1\t1\t1\t0\t0\t2\t93\t38\t393\t-1\t\n",
      "4\t1\t1\t1\t1\t0\t2\t93\t38\t393\t-1\t\n",
      "5\t1\t1 \n",
      "...\n",
      " 46\t-1\t\n",
      "4\t1\t12\t1\t1\t0\t126\t12\t673\t546\t-1\t\n",
      "5\t1\t12\t1\t1\t1\t126\t12\t673\t546\t95\t \n",
      "2\t1\t13\t0\t0\t0\t758\t576\t70\t24\t-1\t\n",
      "3\t1\t13\t1\t0\t0\t758\t576\t70\t24\t-1\t\n",
      "4\t1\t13\t1\t1\t0\t758\t576\t70\t24\t-1\t\n",
      "5\t1\t13\t1\t1\t1\t758\t576\t70\t24\t96\t2000\n",
      "\n"
     ]
    }
   ],
   "source": [
    "if debug:\n",
    "# Get verbose data including boxes, confidences, line and page numbers\n",
    "    data = pytesseract.image_to_data(test_image)\n",
    "    print(type(data),\"\\n\", data[:200], \"\\n...\\n\", data[-200:])\n",
    "    \n",
    "    "
   ]
  },
  {
   "cell_type": "code",
   "execution_count": 12,
   "metadata": {
    "button": false,
    "collapsed": true,
    "deletable": true,
    "new_sheet": false,
    "run_control": {
     "read_only": false
    }
   },
   "outputs": [],
   "source": [
    "def get_test_image():\n",
    "    test_image = Image.open(test_png)\n"
   ]
  },
  {
   "cell_type": "code",
   "execution_count": 13,
   "metadata": {
    "button": false,
    "collapsed": false,
    "deletable": true,
    "new_sheet": false,
    "run_control": {
     "read_only": false
    },
    "scrolled": true
   },
   "outputs": [
    {
     "name": "stdout",
     "output_type": "stream",
     "text": [
      "Page number: 0\n",
      "Orientation in degrees: 0\n",
      "Rotate: 0\n",
      "Orientation confidence: 2.34\n",
      "Script: Latin\n",
      "Script confidence: 6.67\n",
      "\n"
     ]
    }
   ],
   "source": [
    "if debug:\n",
    "# Get information about orientation and script detection\n",
    "    osd = pytesseract.image_to_osd(Image.open(test_png))\n",
    "    print(osd)"
   ]
  },
  {
   "cell_type": "code",
   "execution_count": 14,
   "metadata": {
    "button": false,
    "collapsed": true,
    "deletable": true,
    "new_sheet": false,
    "run_control": {
     "read_only": false
    }
   },
   "outputs": [],
   "source": [
    "if debug:\n",
    "    # Get a searchable PDF\n",
    "    pdf = pytesseract.image_to_pdf_or_hocr(test_png, extension='pdf')\n",
    "    hocr = pytesseract.image_to_pdf_or_hocr(test_png, extension='hocr')\n",
    "    os.chdir(PHYSCHEM)\n",
    "    with open('test.pdf', 'w+b') as f:\n",
    "        f.write(pdf) # pdf type is bytes by default\n",
    "    with open('test.hocr.html', 'w+b') as f:\n",
    "        f.write(hocr) # hocr\n",
    "    os.getcwd()\n",
    "    os.listdir()"
   ]
  },
  {
   "cell_type": "code",
   "execution_count": 15,
   "metadata": {
    "button": false,
    "collapsed": false,
    "deletable": true,
    "new_sheet": false,
    "run_control": {
     "read_only": false
    }
   },
   "outputs": [
    {
     "name": "stdout",
     "output_type": "stream",
     "text": [
      "root <class 'xml.etree.ElementTree.Element'>\n",
      ">> <?xml version=\"1.0\" encoding=\"UTF-8\"?>\n",
      ">> <!DOCTYPE html PUBLIC \"-//W3C//DTD XHTML 1.0 Transitional//EN\"\n",
      ">>     \"http://www.w3.org/TR/xhtml1/DTD/xhtml1-transitional.dtd\">\n",
      ">> <html xmlns=\"http://www.w3.org/1999/xhtml\" xml:lang=\"en\" lang=\"en\">\n",
      ">>  <head>\n",
      ">>   <title></title>\n",
      ">>   <meta http-equiv=\"Content-Type\" content=\"text/html;charset=utf-8\"/>\n",
      ">>   <meta name='ocr-system' content='tesseract 4.1.1' />\n",
      ">>   <meta name='ocr-capabilities' content='ocr_page ocr_carea ocr_par ocr_line ocrx_word ocrp_wconf'/>\n",
      ">>  </head>\n",
      ">>  <body>\n",
      ">>   <div class='ocr_page' id='page_1' title='image \"/Users/pm286/workspace/jupyter/physchem/images/capacitycycle.png\"; bbox 0 0 830 652; ppageno 0'>\n",
      ">>    <div class='ocr_carea' id='block_1_1' title=\"bbox 2 93 40 486\">\n",
      ">>     <p class='ocr_par' id='par_1_1' lang='eng' title=\"bbox 2 93 40 486\">\n",
      ">>      <span class='ocr_line' id='line_1_1' title=\"bbox 2 93 40 486; textangle 90; x_size 38; x_descenders 6; x_ascenders 14\">\n",
      ">>       <span class='ocrx_word' id='word_1_1' title='bbox 10 374 40 486; x_wconf 96'>Specific</span>\n",
      ">>       <span class='ocrx_word' id='word_1_2' title='bbox 10 245 40 363; x_wconf 96'>capacity</span>\n",
      ">>       <span class='ocrx_word' id='word_1_3' title='bbox 10 175 40 233; x_wconf 93'>(mA</span>\n",
      ">>       <span class='ocrx_word' id='word_1_4' title='bbox 2 93 40 164; x_wconf 0'>hg’)</span>\n",
      ">>      </span>\n",
      ">>     </p>\n",
      ">>    </div>\n",
      ">>    <div class='ocr_carea' id='block_1_2' title=\"bbox 56 3 108 27\">\n",
      ">>     <p class='ocr_par' id='par_1_2' lang='eng' title=\"bbox 56 3 108 27\">\n",
      ">>      <span class='ocr_line' id='line_1_2' title=\"bbox 56 3 108 27; baseline 0 0; x_size 32.666668; x_descenders 8.166667; x_ascenders 8.166667\">\n",
      "spans 38\n",
      "ocrx_words 21\n",
      "[10, 374, 40, 486] {Specific}\n",
      "[10, 245, 40, 363] {capacity}\n",
      "[10, 175, 40, 233] {(mA}\n",
      "[2, 93, 40, 164] {hg’)}\n",
      "[56, 3, 108, 27] {350}\n",
      "[56, 79, 71, 103] {wo}\n",
      "[74, 79, 90, 103] {So}\n",
      "[92, 79, 108, 103] {oO}\n",
      "[56, 155, 108, 179] {250}\n",
      "[56, 232, 108, 256] {200}\n",
      "[58, 308, 108, 332] {150}\n",
      "[58, 385, 108, 409] {100}\n",
      "[74, 461, 90, 485] {a}\n",
      "[92, 461, 108, 485] {oO}\n",
      "[271, 576, 323, 600] {500}\n",
      "[430, 576, 498, 600] {1000}\n",
      "[359, 616, 445, 649] {Cycle}\n",
      "[459, 616, 577, 642] {number}\n",
      "[595, 576, 663, 600] {1500}\n",
      "[126, 12, 799, 558] { }\n",
      "[758, 576, 828, 600] {2000}\n",
      ">> [('Specific', [10, 374, 40, 486]), ('capacity', [10, 245, 40, 363])]\n"
     ]
    }
   ],
   "source": [
    "if debug:\n",
    "    import xml.etree.ElementTree as ET\n",
    "# Get HOCR output\n",
    "    hocr = pytesseract.image_to_pdf_or_hocr(test_png, extension='hocr')\n",
    "#    print(\"hocr \", type(hocr), len(hocr), hocr[:2000])\n",
    "    hocr_html = hocr.decode('utf-8')\n",
    "    root = ET.fromstring(hocr_html)\n",
    "    print(\"root\", type(root))\n",
    "    hocrlines = hocr_html.split(\"\\n\")\n",
    "    for hocrline in hocrlines[:25]:\n",
    "        print(\">>\", hocrline)\n",
    "    HTMLNS = \"{http://www.w3.org/1999/xhtml}\"\n",
    "    xpath = \".//\" + HTMLNS + \"span\"\n",
    "    words = root.findall(xpath)\n",
    "    print(\"spans\", len(words))\n",
    "    # namespaces...\n",
    "    words = root.findall(\".//*[@class='ocrx_word']\")\n",
    "    print(\"ocrx_words\", len(words))\n",
    "    textboxes = []\n",
    "    for word in words:\n",
    "        bbox = [int(xy) for xy in word.attrib[\"title\"].split(\";\")[0].split(\"bbox\")[1].split()]\n",
    "        print(str(bbox) + \" {\" + word.text +\"}\")\n",
    "        textboxes.append((word.text, bbox))\n",
    "    print(\">>\", textboxes[:2])"
   ]
  },
  {
   "cell_type": "code",
   "execution_count": 16,
   "metadata": {
    "button": false,
    "collapsed": false,
    "deletable": true,
    "new_sheet": false,
    "run_control": {
     "read_only": false
    }
   },
   "outputs": [
    {
     "name": "stdout",
     "output_type": "stream",
     "text": [
      "Before trimming: (652, 830, 3)\n",
      "ymax 830\n",
      "0 652 0 830\n",
      "After trimming: (652, 652, 3)\n"
     ]
    }
   ],
   "source": [
    "im = np.array(Image.open(test_png))\n",
    "\n",
    "print(\"Before trimming:\",im.shape)\n",
    "ymax = im.shape[1]\n",
    "print(\"ymax\", ymax)\n",
    "xlo = 0\n",
    "xhi = im.shape[0]\n",
    "ylo = 0 \n",
    "yhi = im.shape[1]\n",
    "\n",
    "# xlo = 100\n",
    "# xhi -= 100\n",
    "\n",
    "print(xlo, xhi, ylo, yhi)\n",
    "# runs in other direction?\n",
    "# im_trim = im[ylo:yhi, xlo:xhi]\n",
    "# im_trim = im[xlo:xhi, ylo:yhi]\n",
    "im_trim = im[ylo:yhi, xlo:xhi]\n",
    "print(\"After trimming:\",im_trim.shape)\n",
    "\n",
    "Image.fromarray(im_trim).show()              \n",
    "Image.fromarray(im_trim).save('trim_image.png')"
   ]
  },
  {
   "cell_type": "code",
   "execution_count": 17,
   "metadata": {
    "button": false,
    "collapsed": false,
    "deletable": true,
    "new_sheet": false,
    "run_control": {
     "read_only": false
    }
   },
   "outputs": [
    {
     "ename": "FileNotFoundError",
     "evalue": "[Errno 2] No such file or directory: 'kolala.jpeg'",
     "output_type": "error",
     "traceback": [
      "\u001b[0;31m---------------------------------------------------------------------------\u001b[0m",
      "\u001b[0;31mFileNotFoundError\u001b[0m                         Traceback (most recent call last)",
      "\u001b[0;32m<ipython-input-17-cf0f054d5af2>\u001b[0m in \u001b[0;36m<module>\u001b[0;34m\u001b[0m\n\u001b[1;32m      3\u001b[0m \u001b[0;32mfrom\u001b[0m \u001b[0mnumpy\u001b[0m \u001b[0;32mimport\u001b[0m \u001b[0masarray\u001b[0m\u001b[0;34m\u001b[0m\u001b[0;34m\u001b[0m\u001b[0m\n\u001b[1;32m      4\u001b[0m \u001b[0;31m# load the image\u001b[0m\u001b[0;34m\u001b[0m\u001b[0;34m\u001b[0m\u001b[0;34m\u001b[0m\u001b[0m\n\u001b[0;32m----> 5\u001b[0;31m \u001b[0mimage\u001b[0m \u001b[0;34m=\u001b[0m \u001b[0mImage\u001b[0m\u001b[0;34m.\u001b[0m\u001b[0mopen\u001b[0m\u001b[0;34m(\u001b[0m\u001b[0;34m'kolala.jpeg'\u001b[0m\u001b[0;34m)\u001b[0m\u001b[0;34m\u001b[0m\u001b[0;34m\u001b[0m\u001b[0m\n\u001b[0m\u001b[1;32m      6\u001b[0m \u001b[0;31m# convert image to numpy array\u001b[0m\u001b[0;34m\u001b[0m\u001b[0;34m\u001b[0m\u001b[0;34m\u001b[0m\u001b[0m\n\u001b[1;32m      7\u001b[0m \u001b[0mdata\u001b[0m \u001b[0;34m=\u001b[0m \u001b[0masarray\u001b[0m\u001b[0;34m(\u001b[0m\u001b[0mimage\u001b[0m\u001b[0;34m)\u001b[0m\u001b[0;34m\u001b[0m\u001b[0;34m\u001b[0m\u001b[0m\n",
      "\u001b[0;32m/opt/anaconda3/lib/python3.8/site-packages/PIL/Image.py\u001b[0m in \u001b[0;36mopen\u001b[0;34m(fp, mode)\u001b[0m\n\u001b[1;32m   2876\u001b[0m \u001b[0;34m\u001b[0m\u001b[0m\n\u001b[1;32m   2877\u001b[0m     \u001b[0;32mif\u001b[0m \u001b[0mfilename\u001b[0m\u001b[0;34m:\u001b[0m\u001b[0;34m\u001b[0m\u001b[0;34m\u001b[0m\u001b[0m\n\u001b[0;32m-> 2878\u001b[0;31m         \u001b[0mfp\u001b[0m \u001b[0;34m=\u001b[0m \u001b[0mbuiltins\u001b[0m\u001b[0;34m.\u001b[0m\u001b[0mopen\u001b[0m\u001b[0;34m(\u001b[0m\u001b[0mfilename\u001b[0m\u001b[0;34m,\u001b[0m \u001b[0;34m\"rb\"\u001b[0m\u001b[0;34m)\u001b[0m\u001b[0;34m\u001b[0m\u001b[0;34m\u001b[0m\u001b[0m\n\u001b[0m\u001b[1;32m   2879\u001b[0m         \u001b[0mexclusive_fp\u001b[0m \u001b[0;34m=\u001b[0m \u001b[0;32mTrue\u001b[0m\u001b[0;34m\u001b[0m\u001b[0;34m\u001b[0m\u001b[0m\n\u001b[1;32m   2880\u001b[0m \u001b[0;34m\u001b[0m\u001b[0m\n",
      "\u001b[0;31mFileNotFoundError\u001b[0m: [Errno 2] No such file or directory: 'kolala.jpeg'"
     ]
    }
   ],
   "source": [
    " # to/from image\n",
    "from PIL import Image\n",
    "from numpy import asarray\n",
    "# load the image\n",
    "image = Image.open('kolala.jpeg')\n",
    "# convert image to numpy array\n",
    "data = asarray(image)\n",
    "print(type(data))\n",
    "# summarize shape\n",
    "print(data.shape)\n",
    "\n",
    "# create Pillow image\n",
    "image2 = Image.fromarray(data)\n",
    "print(type(image2))\n",
    "\n",
    "# summarize image details\n",
    "print(image2.mode)\n",
    "print(image2.size)"
   ]
  },
  {
   "cell_type": "code",
   "execution_count": null,
   "metadata": {
    "button": false,
    "collapsed": true,
    "deletable": true,
    "new_sheet": false,
    "run_control": {
     "read_only": false
    }
   },
   "outputs": [],
   "source": [
    "import numpy as np\n",
    "import matplotlib.pyplot as plt\n",
    "from matplotlib.collections import PatchCollection\n",
    "from matplotlib.patches import Rectangle\n",
    "\n",
    "# Number of data points\n",
    "n = 5\n",
    "\n",
    "# Dummy data\n",
    "np.random.seed(19680801)\n",
    "x = np.arange(0, n, 1)\n",
    "y = np.random.rand(n) * 5.\n",
    "\n",
    "# Dummy errors (above and below)\n",
    "xerr = np.random.rand(2, n) + 0.1\n",
    "yerr = np.random.rand(2, n) + 0.2\n",
    "\n",
    "\n",
    "def make_boxes(textboxes, facecolor='r',\n",
    "                     edgecolor='None', alpha=0.5):\n",
    "\n",
    "    # Create list for all the error patches\n",
    "    boxes = []\n",
    "\n",
    "    # Loop over data points; create box from errors at each point\n",
    "    x = []\n",
    "    y = []\n",
    "    ymax = 1000\n",
    "    texts = []\n",
    "    for textbox in textboxes:\n",
    "        text = textbox[0]\n",
    "        box = textbox[1]\n",
    "        x0 = box[0]\n",
    "        y0 = ymax - box[1]\n",
    "        x1 = box[2]\n",
    "        y1 = ymax - box[3]\n",
    "        x.append(x0)\n",
    "        y.append(y0)\n",
    "        rect = Rectangle((x0, y0), x1 - x0 , y1 - y0)\n",
    "        texts.append((x0, y0, text))\n",
    "        print(rect)\n",
    "        boxes.append(rect)\n",
    "\n",
    "    return x,y,boxes, texts\n",
    "\n",
    "\n",
    "# Create figure and axes\n",
    "\n",
    "\n",
    "# Call function to create error boxes\n",
    "x, y, boxes, texts = make_boxes(textboxes)\n",
    "\n",
    "plt.plot(x, y, '.')\n",
    "plt.xlabel(\"x label\")\n",
    "plt.ylabel(\"y label\")\n",
    "for text in texts:\n",
    "    plt.text(text[0], text[1], text[2])\n",
    "\n",
    "plt.show()"
   ]
  },
  {
   "cell_type": "code",
   "execution_count": null,
   "metadata": {
    "button": false,
    "collapsed": true,
    "deletable": true,
    "new_sheet": false,
    "run_control": {
     "read_only": false
    },
    "scrolled": false
   },
   "outputs": [],
   "source": [
    "liion = os.path.join(PHYSCHEM, 'liion')\n",
    "os.chdir(liion)\n",
    "liions = glob.glob(\"**/sections/*/fig*.xml\")\n",
    "print(\"liions \", len(liions))\n",
    "\n",
    "liionpngs = glob.glob(\"**/pdfimages/**/raw.png\")\n",
    "print(\"liions pngs\", len(liionpngs)) \n",
    "\n",
    "import matplotlib.pyplot as plt\n",
    "# %matplotlib inline\n",
    "\n",
    "import time\n",
    "import html2text\n",
    "import numpy as np\n",
    "import nltk\n",
    "%matplotlib inline\n",
    "\n",
    "\n",
    "# print(liionpngs)\n",
    "maxcount = 20\n",
    "minlen = 2\n",
    "corpus =[]\n",
    "wordzz = []\n",
    "stopwords = set(['oo'])\n",
    "for count, liionpng in enumerate(liionpngs[:maxcount]):\n",
    "    if count % 10 == 0:\n",
    "        print (\"img \", count, liionpng)\n",
    "#    img = Image.open(liionpng)\n",
    "#    plt.figure()\n",
    "#    plt.imshow(np.asarray(img))\n",
    "#    plt.imshow(img)\n",
    "\n",
    "    hocr_file = os.path.join(os.path.split(liionpng)[0], 'hocr.html')\n",
    "    hocr = pytesseract.image_to_pdf_or_hocr(liionpng, extension='hocr')\n",
    "    with open(hocr_file, 'w+b') as f:\n",
    "        f.write(hocr) # hocr\n",
    "    html = open(hocr_file).read()\n",
    "    htmltext = html2text.html2text(html)\n",
    "    words = nltk.word_tokenize(htmltext)\n",
    "    words = [word for word in words if len(word) >= minlen and not word.isnumeric()\\\n",
    "            and not word.lower() in stopwords]\n",
    "    if len(words) > 0:\n",
    "        text = \" \".join(words)\n",
    "    #    print(\"words\", np.array(words))\n",
    "        corpus.append(text)\n",
    "        for word in words:\n",
    "            wordzz.append(word)\n",
    "            \n",
    "from collections import Counter\n",
    "c = Counter(wordzz) \n",
    "print(len(c))\n",
    "print(c.most_common(20))\n",
    "print(\"text list\", len(corpus))\n",
    "normalize_corpus = np.vectorize(corpus)\n",
    "# print(corpus)\n",
    "        "
   ]
  },
  {
   "cell_type": "code",
   "execution_count": null,
   "metadata": {
    "button": false,
    "collapsed": true,
    "deletable": true,
    "new_sheet": false,
    "run_control": {
     "read_only": false
    }
   },
   "outputs": [],
   "source": [
    "from sklearn.feature_extraction.text import TfidfVectorizer\n",
    "import pandas as pd\n",
    "import numpy as np\n",
    "\n",
    "vectorizer = TfidfVectorizer(smooth_idf=True,use_idf=True)\n",
    "X = vectorizer.fit_transform(corpus)\n",
    "vocab = vectorizer.get_feature_names()\n",
    "print(X.shape)\n",
    "foo_list = vectorizer.inverse_transform(X)\n",
    "print(\"\\n=====\", len(foo_list), foo_list)\n",
    "for foo in foo_list:\n",
    "    print(\">>>\", foo)\n",
    "\n",
    "# pd.DataFrame(np.round(X, 2), columns=vocab)\n",
    "\n",
    "\"\"\"\n",
    "tfidf_transformer=TfidfTransformer(smooth_idf=True,use_idf=True) \n",
    "tfidf_transformer.fit(word_count_vector)\n",
    "# print idf values \n",
    "df_idf = pd.DataFrame(tfidf_transformer.idf_, index=cv.get_feature_names(),columns=[\"idf_weights\"]) \n",
    " \n",
    "# sort ascending \n",
    "df_idf.sort_values(by=['idf_weights'])\n",
    "\n",
    "tv_matrix = tv.fit_transform(textlist)\n",
    "tv_matrix = tv_matrix.toarray()\n",
    "vocab = tv.get_feature_names()\n",
    "pd.DataFrame(np.round(tv_matrix, 2), columns=vocab)\n",
    "\"\"\""
   ]
  },
  {
   "cell_type": "code",
   "execution_count": null,
   "metadata": {
    "button": false,
    "collapsed": true,
    "deletable": true,
    "new_sheet": false,
    "run_control": {
     "read_only": false
    }
   },
   "outputs": [],
   "source": [
    "print(\"FINISHED\")"
   ]
  }
 ],
 "metadata": {
  "kernelspec": {
   "display_name": "Python 3",
   "language": "python",
   "name": "python3"
  },
  "language_info": {
   "codemirror_mode": {
    "name": "ipython",
    "version": 3
   },
   "file_extension": ".py",
   "mimetype": "text/x-python",
   "name": "python",
   "nbconvert_exporter": "python",
   "pygments_lexer": "ipython3",
   "version": "3.8.3"
  }
 },
 "nbformat": 4,
 "nbformat_minor": 4
}
