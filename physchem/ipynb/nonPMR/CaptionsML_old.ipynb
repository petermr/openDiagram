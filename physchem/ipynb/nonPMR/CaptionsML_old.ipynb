{
 "cells": [
  {
   "cell_type": "code",
   "execution_count": 24,
   "metadata": {
    "button": false,
    "collapsed": true,
    "deletable": true,
    "new_sheet": false,
    "run_control": {
     "read_only": false
    }
   },
   "outputs": [],
   "source": [
    "import pandas as pd"
   ]
  },
  {
   "cell_type": "code",
   "execution_count": 25,
   "metadata": {
    "button": false,
    "collapsed": true,
    "deletable": true,
    "new_sheet": false,
    "run_control": {
     "read_only": false
    }
   },
   "outputs": [],
   "source": [
    "df = pd.read_csv(\"labelled_figures_400captions.csv\")"
   ]
  },
  {
   "cell_type": "code",
   "execution_count": 26,
   "metadata": {
    "button": false,
    "collapsed": false,
    "deletable": true,
    "new_sheet": false,
    "run_control": {
     "read_only": false
    }
   },
   "outputs": [
    {
     "data": {
      "text/html": [
       "<div>\n",
       "<style scoped>\n",
       "    .dataframe tbody tr th:only-of-type {\n",
       "        vertical-align: middle;\n",
       "    }\n",
       "\n",
       "    .dataframe tbody tr th {\n",
       "        vertical-align: top;\n",
       "    }\n",
       "\n",
       "    .dataframe thead th {\n",
       "        text-align: right;\n",
       "    }\n",
       "</style>\n",
       "<table border=\"1\" class=\"dataframe\">\n",
       "  <thead>\n",
       "    <tr style=\"text-align: right;\">\n",
       "      <th></th>\n",
       "      <th>Paper</th>\n",
       "      <th>Image</th>\n",
       "      <th>Captionfull</th>\n",
       "      <th>panel1tag</th>\n",
       "      <th>panel2tag</th>\n",
       "      <th>panel3tag</th>\n",
       "      <th>panel4tag</th>\n",
       "      <th>panel5tag</th>\n",
       "      <th>panel6tag</th>\n",
       "      <th>panel7tag</th>\n",
       "      <th>panel8tag</th>\n",
       "      <th>panel9tag</th>\n",
       "      <th>panel10tag</th>\n",
       "      <th>panel11tag</th>\n",
       "      <th>panel12tag</th>\n",
       "    </tr>\n",
       "  </thead>\n",
       "  <tbody>\n",
       "    <tr>\n",
       "      <th>0</th>\n",
       "      <td>PMC3211491</td>\n",
       "      <td>image.3.1.64_532.102_571.png</td>\n",
       "      <td>&lt;bold&gt;Crystal structures of CuO products&lt;/bold...</td>\n",
       "      <td>xrd</td>\n",
       "      <td>microscopy</td>\n",
       "      <td>microscopy</td>\n",
       "      <td>microscopy</td>\n",
       "      <td>NaN</td>\n",
       "      <td>NaN</td>\n",
       "      <td>NaN</td>\n",
       "      <td>NaN</td>\n",
       "      <td>NaN</td>\n",
       "      <td>NaN</td>\n",
       "      <td>NaN</td>\n",
       "      <td>NaN</td>\n",
       "    </tr>\n",
       "    <tr>\n",
       "      <th>1</th>\n",
       "      <td>PMC3211491</td>\n",
       "      <td>image.4.1.64_532.102_336.png</td>\n",
       "      <td>&lt;bold&gt;FESEM images&lt;/bold&gt;. &lt;bold&gt;(a) &lt;/bold&gt;[C...</td>\n",
       "      <td>microscopy</td>\n",
       "      <td>microscopy</td>\n",
       "      <td>microscopy</td>\n",
       "      <td>microscopy</td>\n",
       "      <td>microscopy</td>\n",
       "      <td>microscopy</td>\n",
       "      <td>graphic</td>\n",
       "      <td>NaN</td>\n",
       "      <td>NaN</td>\n",
       "      <td>NaN</td>\n",
       "      <td>NaN</td>\n",
       "      <td>NaN</td>\n",
       "    </tr>\n",
       "    <tr>\n",
       "      <th>2</th>\n",
       "      <td>PMC3211491</td>\n",
       "      <td>image.4.2.313_531.492_708.png</td>\n",
       "      <td>&lt;bold&gt;Voltage profiles of CuO&lt;/bold&gt;. Galvanos...</td>\n",
       "      <td>echem_v_cap</td>\n",
       "      <td>NaN</td>\n",
       "      <td>NaN</td>\n",
       "      <td>NaN</td>\n",
       "      <td>NaN</td>\n",
       "      <td>NaN</td>\n",
       "      <td>NaN</td>\n",
       "      <td>NaN</td>\n",
       "      <td>NaN</td>\n",
       "      <td>NaN</td>\n",
       "      <td>NaN</td>\n",
       "      <td>NaN</td>\n",
       "    </tr>\n",
       "    <tr>\n",
       "      <th>3</th>\n",
       "      <td>PMC3211491</td>\n",
       "      <td>image.5.1.63_533.240_708.png</td>\n",
       "      <td>&lt;bold&gt;XRD pattern of the CuO/MWCNT composites&lt;...</td>\n",
       "      <td>xrd</td>\n",
       "      <td>tga</td>\n",
       "      <td>microscopy</td>\n",
       "      <td>microscopy</td>\n",
       "      <td>NaN</td>\n",
       "      <td>NaN</td>\n",
       "      <td>NaN</td>\n",
       "      <td>NaN</td>\n",
       "      <td>NaN</td>\n",
       "      <td>NaN</td>\n",
       "      <td>NaN</td>\n",
       "      <td>NaN</td>\n",
       "    </tr>\n",
       "    <tr>\n",
       "      <th>4</th>\n",
       "      <td>PMC3211491</td>\n",
       "      <td>image.6.1.63_286.483_698.png</td>\n",
       "      <td>&lt;bold&gt;Cyclic voltammetry for pure CuO and CuO/...</td>\n",
       "      <td>echem_c_v</td>\n",
       "      <td>NaN</td>\n",
       "      <td>NaN</td>\n",
       "      <td>NaN</td>\n",
       "      <td>NaN</td>\n",
       "      <td>NaN</td>\n",
       "      <td>NaN</td>\n",
       "      <td>NaN</td>\n",
       "      <td>NaN</td>\n",
       "      <td>NaN</td>\n",
       "      <td>NaN</td>\n",
       "      <td>NaN</td>\n",
       "    </tr>\n",
       "    <tr>\n",
       "      <th>...</th>\n",
       "      <td>...</td>\n",
       "      <td>...</td>\n",
       "      <td>...</td>\n",
       "      <td>...</td>\n",
       "      <td>...</td>\n",
       "      <td>...</td>\n",
       "      <td>...</td>\n",
       "      <td>...</td>\n",
       "      <td>...</td>\n",
       "      <td>...</td>\n",
       "      <td>...</td>\n",
       "      <td>...</td>\n",
       "      <td>...</td>\n",
       "      <td>...</td>\n",
       "      <td>...</td>\n",
       "    </tr>\n",
       "    <tr>\n",
       "      <th>399</th>\n",
       "      <td>PMC6523080</td>\n",
       "      <td>image.6.2.97_504.422_556</td>\n",
       "      <td>&lt;p&gt;(&lt;bold&gt;a&lt;/bold&gt;) N &lt;sub&gt;2&lt;/sub&gt; isotherm ab...</td>\n",
       "      <td>bet</td>\n",
       "      <td>bet</td>\n",
       "      <td>NaN</td>\n",
       "      <td>NaN</td>\n",
       "      <td>NaN</td>\n",
       "      <td>NaN</td>\n",
       "      <td>NaN</td>\n",
       "      <td>NaN</td>\n",
       "      <td>NaN</td>\n",
       "      <td>NaN</td>\n",
       "      <td>NaN</td>\n",
       "      <td>NaN</td>\n",
       "    </tr>\n",
       "    <tr>\n",
       "      <th>400</th>\n",
       "      <td>PMC6523080</td>\n",
       "      <td>image.7.1.122_472.262_467</td>\n",
       "      <td>&lt;p&gt;(&lt;bold&gt;a&lt;/bold&gt;_ &lt;bold&gt;c&lt;/bold&gt;) Cross-sect...</td>\n",
       "      <td>microscopy</td>\n",
       "      <td>microscopy</td>\n",
       "      <td>microscopy</td>\n",
       "      <td>microscopy</td>\n",
       "      <td>microscopy</td>\n",
       "      <td>microscopy</td>\n",
       "      <td>NaN</td>\n",
       "      <td>NaN</td>\n",
       "      <td>NaN</td>\n",
       "      <td>NaN</td>\n",
       "      <td>NaN</td>\n",
       "      <td>NaN</td>\n",
       "    </tr>\n",
       "    <tr>\n",
       "      <th>401</th>\n",
       "      <td>PMC6523080</td>\n",
       "      <td>image.8.1.195_400.89_292</td>\n",
       "      <td>&lt;p&gt;(&lt;bold&gt;a&lt;/bold&gt;_ &lt;bold&gt;d&lt;/bold&gt;) Transmissi...</td>\n",
       "      <td>microscopy</td>\n",
       "      <td>microscopy</td>\n",
       "      <td>microscopy</td>\n",
       "      <td>microscopy</td>\n",
       "      <td>NaN</td>\n",
       "      <td>NaN</td>\n",
       "      <td>NaN</td>\n",
       "      <td>NaN</td>\n",
       "      <td>NaN</td>\n",
       "      <td>NaN</td>\n",
       "      <td>NaN</td>\n",
       "      <td>NaN</td>\n",
       "    </tr>\n",
       "    <tr>\n",
       "      <th>402</th>\n",
       "      <td>PMC6523080</td>\n",
       "      <td>image.10.1.114_482.49_311</td>\n",
       "      <td>&lt;p&gt;(&lt;bold&gt;a&lt;/bold&gt;, &lt;bold&gt;b&lt;/bold&gt;) Galvanosta...</td>\n",
       "      <td>echem_v_cap</td>\n",
       "      <td>echem_v_cap</td>\n",
       "      <td>echem_cap_cycle</td>\n",
       "      <td>echem_cap_cycle</td>\n",
       "      <td>NaN</td>\n",
       "      <td>NaN</td>\n",
       "      <td>NaN</td>\n",
       "      <td>NaN</td>\n",
       "      <td>NaN</td>\n",
       "      <td>NaN</td>\n",
       "      <td>NaN</td>\n",
       "      <td>NaN</td>\n",
       "    </tr>\n",
       "    <tr>\n",
       "      <th>403</th>\n",
       "      <td>PMC6523080</td>\n",
       "      <td>image.11.1.109_486.324_590</td>\n",
       "      <td>&lt;p&gt;(&lt;bold&gt;a&lt;/bold&gt;) Cyclic voltammetry (CV) cu...</td>\n",
       "      <td>echem_c_v</td>\n",
       "      <td>echem_c_v</td>\n",
       "      <td>impedance</td>\n",
       "      <td>impedance</td>\n",
       "      <td>NaN</td>\n",
       "      <td>NaN</td>\n",
       "      <td>NaN</td>\n",
       "      <td>NaN</td>\n",
       "      <td>NaN</td>\n",
       "      <td>NaN</td>\n",
       "      <td>NaN</td>\n",
       "      <td>NaN</td>\n",
       "    </tr>\n",
       "  </tbody>\n",
       "</table>\n",
       "<p>404 rows × 15 columns</p>\n",
       "</div>"
      ],
      "text/plain": [
       "          Paper                          Image  \\\n",
       "0    PMC3211491   image.3.1.64_532.102_571.png   \n",
       "1    PMC3211491   image.4.1.64_532.102_336.png   \n",
       "2    PMC3211491  image.4.2.313_531.492_708.png   \n",
       "3    PMC3211491   image.5.1.63_533.240_708.png   \n",
       "4    PMC3211491   image.6.1.63_286.483_698.png   \n",
       "..          ...                            ...   \n",
       "399  PMC6523080       image.6.2.97_504.422_556   \n",
       "400  PMC6523080      image.7.1.122_472.262_467   \n",
       "401  PMC6523080       image.8.1.195_400.89_292   \n",
       "402  PMC6523080      image.10.1.114_482.49_311   \n",
       "403  PMC6523080     image.11.1.109_486.324_590   \n",
       "\n",
       "                                           Captionfull    panel1tag  \\\n",
       "0    <bold>Crystal structures of CuO products</bold...          xrd   \n",
       "1    <bold>FESEM images</bold>. <bold>(a) </bold>[C...   microscopy   \n",
       "2    <bold>Voltage profiles of CuO</bold>. Galvanos...  echem_v_cap   \n",
       "3    <bold>XRD pattern of the CuO/MWCNT composites<...          xrd   \n",
       "4    <bold>Cyclic voltammetry for pure CuO and CuO/...    echem_c_v   \n",
       "..                                                 ...          ...   \n",
       "399  <p>(<bold>a</bold>) N <sub>2</sub> isotherm ab...          bet   \n",
       "400  <p>(<bold>a</bold>_ <bold>c</bold>) Cross-sect...   microscopy   \n",
       "401  <p>(<bold>a</bold>_ <bold>d</bold>) Transmissi...   microscopy   \n",
       "402  <p>(<bold>a</bold>, <bold>b</bold>) Galvanosta...  echem_v_cap   \n",
       "403  <p>(<bold>a</bold>) Cyclic voltammetry (CV) cu...    echem_c_v   \n",
       "\n",
       "       panel2tag        panel3tag        panel4tag   panel5tag   panel6tag  \\\n",
       "0     microscopy       microscopy       microscopy         NaN         NaN   \n",
       "1     microscopy       microscopy       microscopy  microscopy  microscopy   \n",
       "2            NaN              NaN              NaN         NaN         NaN   \n",
       "3            tga       microscopy       microscopy         NaN         NaN   \n",
       "4            NaN              NaN              NaN         NaN         NaN   \n",
       "..           ...              ...              ...         ...         ...   \n",
       "399          bet              NaN              NaN         NaN         NaN   \n",
       "400   microscopy       microscopy       microscopy  microscopy  microscopy   \n",
       "401   microscopy       microscopy       microscopy         NaN         NaN   \n",
       "402  echem_v_cap  echem_cap_cycle  echem_cap_cycle         NaN         NaN   \n",
       "403    echem_c_v        impedance        impedance         NaN         NaN   \n",
       "\n",
       "    panel7tag panel8tag panel9tag panel10tag panel11tag panel12tag  \n",
       "0         NaN       NaN       NaN        NaN        NaN        NaN  \n",
       "1     graphic       NaN       NaN        NaN        NaN        NaN  \n",
       "2         NaN       NaN       NaN        NaN        NaN        NaN  \n",
       "3         NaN       NaN       NaN        NaN        NaN        NaN  \n",
       "4         NaN       NaN       NaN        NaN        NaN        NaN  \n",
       "..        ...       ...       ...        ...        ...        ...  \n",
       "399       NaN       NaN       NaN        NaN        NaN        NaN  \n",
       "400       NaN       NaN       NaN        NaN        NaN        NaN  \n",
       "401       NaN       NaN       NaN        NaN        NaN        NaN  \n",
       "402       NaN       NaN       NaN        NaN        NaN        NaN  \n",
       "403       NaN       NaN       NaN        NaN        NaN        NaN  \n",
       "\n",
       "[404 rows x 15 columns]"
      ]
     },
     "execution_count": 26,
     "metadata": {},
     "output_type": "execute_result"
    }
   ],
   "source": [
    "df"
   ]
  },
  {
   "cell_type": "code",
   "execution_count": 27,
   "metadata": {
    "button": false,
    "collapsed": true,
    "deletable": true,
    "new_sheet": false,
    "run_control": {
     "read_only": false
    }
   },
   "outputs": [],
   "source": [
    "from bs4 import BeautifulSoup"
   ]
  },
  {
   "cell_type": "code",
   "execution_count": 28,
   "metadata": {
    "button": false,
    "collapsed": true,
    "deletable": true,
    "new_sheet": false,
    "run_control": {
     "read_only": false
    }
   },
   "outputs": [],
   "source": [
    "df['Captionfull'] = [BeautifulSoup(text).get_text() for text in df['Captionfull'] ]"
   ]
  },
  {
   "cell_type": "code",
   "execution_count": 29,
   "metadata": {
    "button": false,
    "collapsed": false,
    "deletable": true,
    "new_sheet": false,
    "run_control": {
     "read_only": false
    }
   },
   "outputs": [
    {
     "data": {
      "text/html": [
       "<div>\n",
       "<style scoped>\n",
       "    .dataframe tbody tr th:only-of-type {\n",
       "        vertical-align: middle;\n",
       "    }\n",
       "\n",
       "    .dataframe tbody tr th {\n",
       "        vertical-align: top;\n",
       "    }\n",
       "\n",
       "    .dataframe thead th {\n",
       "        text-align: right;\n",
       "    }\n",
       "</style>\n",
       "<table border=\"1\" class=\"dataframe\">\n",
       "  <thead>\n",
       "    <tr style=\"text-align: right;\">\n",
       "      <th></th>\n",
       "      <th>Paper</th>\n",
       "      <th>Image</th>\n",
       "      <th>Captionfull</th>\n",
       "      <th>panel1tag</th>\n",
       "      <th>panel2tag</th>\n",
       "      <th>panel3tag</th>\n",
       "      <th>panel4tag</th>\n",
       "      <th>panel5tag</th>\n",
       "      <th>panel6tag</th>\n",
       "      <th>panel7tag</th>\n",
       "      <th>panel8tag</th>\n",
       "      <th>panel9tag</th>\n",
       "      <th>panel10tag</th>\n",
       "      <th>panel11tag</th>\n",
       "      <th>panel12tag</th>\n",
       "    </tr>\n",
       "  </thead>\n",
       "  <tbody>\n",
       "    <tr>\n",
       "      <th>0</th>\n",
       "      <td>PMC3211491</td>\n",
       "      <td>image.3.1.64_532.102_571.png</td>\n",
       "      <td>Crystal structures of CuO products.  (a-b) XRD...</td>\n",
       "      <td>xrd</td>\n",
       "      <td>microscopy</td>\n",
       "      <td>microscopy</td>\n",
       "      <td>microscopy</td>\n",
       "      <td>NaN</td>\n",
       "      <td>NaN</td>\n",
       "      <td>NaN</td>\n",
       "      <td>NaN</td>\n",
       "      <td>NaN</td>\n",
       "      <td>NaN</td>\n",
       "      <td>NaN</td>\n",
       "      <td>NaN</td>\n",
       "    </tr>\n",
       "    <tr>\n",
       "      <th>1</th>\n",
       "      <td>PMC3211491</td>\n",
       "      <td>image.4.1.64_532.102_336.png</td>\n",
       "      <td>FESEM images. (a) [Cu(NH 3) 4] 2+ complex, (b)...</td>\n",
       "      <td>microscopy</td>\n",
       "      <td>microscopy</td>\n",
       "      <td>microscopy</td>\n",
       "      <td>microscopy</td>\n",
       "      <td>microscopy</td>\n",
       "      <td>microscopy</td>\n",
       "      <td>graphic</td>\n",
       "      <td>NaN</td>\n",
       "      <td>NaN</td>\n",
       "      <td>NaN</td>\n",
       "      <td>NaN</td>\n",
       "      <td>NaN</td>\n",
       "    </tr>\n",
       "    <tr>\n",
       "      <th>2</th>\n",
       "      <td>PMC3211491</td>\n",
       "      <td>image.4.2.313_531.492_708.png</td>\n",
       "      <td>Voltage profiles of CuO. Galvanostatic dischar...</td>\n",
       "      <td>echem_v_cap</td>\n",
       "      <td>NaN</td>\n",
       "      <td>NaN</td>\n",
       "      <td>NaN</td>\n",
       "      <td>NaN</td>\n",
       "      <td>NaN</td>\n",
       "      <td>NaN</td>\n",
       "      <td>NaN</td>\n",
       "      <td>NaN</td>\n",
       "      <td>NaN</td>\n",
       "      <td>NaN</td>\n",
       "      <td>NaN</td>\n",
       "    </tr>\n",
       "    <tr>\n",
       "      <th>3</th>\n",
       "      <td>PMC3211491</td>\n",
       "      <td>image.5.1.63_533.240_708.png</td>\n",
       "      <td>XRD pattern of the CuO/MWCNT composites. (a) X...</td>\n",
       "      <td>xrd</td>\n",
       "      <td>tga</td>\n",
       "      <td>microscopy</td>\n",
       "      <td>microscopy</td>\n",
       "      <td>NaN</td>\n",
       "      <td>NaN</td>\n",
       "      <td>NaN</td>\n",
       "      <td>NaN</td>\n",
       "      <td>NaN</td>\n",
       "      <td>NaN</td>\n",
       "      <td>NaN</td>\n",
       "      <td>NaN</td>\n",
       "    </tr>\n",
       "    <tr>\n",
       "      <th>4</th>\n",
       "      <td>PMC3211491</td>\n",
       "      <td>image.6.1.63_286.483_698.png</td>\n",
       "      <td>Cyclic voltammetry for pure CuO and CuO/MWCNT....</td>\n",
       "      <td>echem_c_v</td>\n",
       "      <td>NaN</td>\n",
       "      <td>NaN</td>\n",
       "      <td>NaN</td>\n",
       "      <td>NaN</td>\n",
       "      <td>NaN</td>\n",
       "      <td>NaN</td>\n",
       "      <td>NaN</td>\n",
       "      <td>NaN</td>\n",
       "      <td>NaN</td>\n",
       "      <td>NaN</td>\n",
       "      <td>NaN</td>\n",
       "    </tr>\n",
       "    <tr>\n",
       "      <th>...</th>\n",
       "      <td>...</td>\n",
       "      <td>...</td>\n",
       "      <td>...</td>\n",
       "      <td>...</td>\n",
       "      <td>...</td>\n",
       "      <td>...</td>\n",
       "      <td>...</td>\n",
       "      <td>...</td>\n",
       "      <td>...</td>\n",
       "      <td>...</td>\n",
       "      <td>...</td>\n",
       "      <td>...</td>\n",
       "      <td>...</td>\n",
       "      <td>...</td>\n",
       "      <td>...</td>\n",
       "    </tr>\n",
       "    <tr>\n",
       "      <th>399</th>\n",
       "      <td>PMC6523080</td>\n",
       "      <td>image.6.2.97_504.422_556</td>\n",
       "      <td>(a) N 2 isotherm absorption-desorption curves ...</td>\n",
       "      <td>bet</td>\n",
       "      <td>bet</td>\n",
       "      <td>NaN</td>\n",
       "      <td>NaN</td>\n",
       "      <td>NaN</td>\n",
       "      <td>NaN</td>\n",
       "      <td>NaN</td>\n",
       "      <td>NaN</td>\n",
       "      <td>NaN</td>\n",
       "      <td>NaN</td>\n",
       "      <td>NaN</td>\n",
       "      <td>NaN</td>\n",
       "    </tr>\n",
       "    <tr>\n",
       "      <th>400</th>\n",
       "      <td>PMC6523080</td>\n",
       "      <td>image.7.1.122_472.262_467</td>\n",
       "      <td>(a_ c) Cross-sectional scanning electron micro...</td>\n",
       "      <td>microscopy</td>\n",
       "      <td>microscopy</td>\n",
       "      <td>microscopy</td>\n",
       "      <td>microscopy</td>\n",
       "      <td>microscopy</td>\n",
       "      <td>microscopy</td>\n",
       "      <td>NaN</td>\n",
       "      <td>NaN</td>\n",
       "      <td>NaN</td>\n",
       "      <td>NaN</td>\n",
       "      <td>NaN</td>\n",
       "      <td>NaN</td>\n",
       "    </tr>\n",
       "    <tr>\n",
       "      <th>401</th>\n",
       "      <td>PMC6523080</td>\n",
       "      <td>image.8.1.195_400.89_292</td>\n",
       "      <td>(a_ d) Transmission electron microscope (TEM) ...</td>\n",
       "      <td>microscopy</td>\n",
       "      <td>microscopy</td>\n",
       "      <td>microscopy</td>\n",
       "      <td>microscopy</td>\n",
       "      <td>NaN</td>\n",
       "      <td>NaN</td>\n",
       "      <td>NaN</td>\n",
       "      <td>NaN</td>\n",
       "      <td>NaN</td>\n",
       "      <td>NaN</td>\n",
       "      <td>NaN</td>\n",
       "      <td>NaN</td>\n",
       "    </tr>\n",
       "    <tr>\n",
       "      <th>402</th>\n",
       "      <td>PMC6523080</td>\n",
       "      <td>image.10.1.114_482.49_311</td>\n",
       "      <td>(a, b) Galvanostatic discharge/charge curves o...</td>\n",
       "      <td>echem_v_cap</td>\n",
       "      <td>echem_v_cap</td>\n",
       "      <td>echem_cap_cycle</td>\n",
       "      <td>echem_cap_cycle</td>\n",
       "      <td>NaN</td>\n",
       "      <td>NaN</td>\n",
       "      <td>NaN</td>\n",
       "      <td>NaN</td>\n",
       "      <td>NaN</td>\n",
       "      <td>NaN</td>\n",
       "      <td>NaN</td>\n",
       "      <td>NaN</td>\n",
       "    </tr>\n",
       "    <tr>\n",
       "      <th>403</th>\n",
       "      <td>PMC6523080</td>\n",
       "      <td>image.11.1.109_486.324_590</td>\n",
       "      <td>(a) Cyclic voltammetry (CV) curves of Si/rGO a...</td>\n",
       "      <td>echem_c_v</td>\n",
       "      <td>echem_c_v</td>\n",
       "      <td>impedance</td>\n",
       "      <td>impedance</td>\n",
       "      <td>NaN</td>\n",
       "      <td>NaN</td>\n",
       "      <td>NaN</td>\n",
       "      <td>NaN</td>\n",
       "      <td>NaN</td>\n",
       "      <td>NaN</td>\n",
       "      <td>NaN</td>\n",
       "      <td>NaN</td>\n",
       "    </tr>\n",
       "  </tbody>\n",
       "</table>\n",
       "<p>404 rows × 15 columns</p>\n",
       "</div>"
      ],
      "text/plain": [
       "          Paper                          Image  \\\n",
       "0    PMC3211491   image.3.1.64_532.102_571.png   \n",
       "1    PMC3211491   image.4.1.64_532.102_336.png   \n",
       "2    PMC3211491  image.4.2.313_531.492_708.png   \n",
       "3    PMC3211491   image.5.1.63_533.240_708.png   \n",
       "4    PMC3211491   image.6.1.63_286.483_698.png   \n",
       "..          ...                            ...   \n",
       "399  PMC6523080       image.6.2.97_504.422_556   \n",
       "400  PMC6523080      image.7.1.122_472.262_467   \n",
       "401  PMC6523080       image.8.1.195_400.89_292   \n",
       "402  PMC6523080      image.10.1.114_482.49_311   \n",
       "403  PMC6523080     image.11.1.109_486.324_590   \n",
       "\n",
       "                                           Captionfull    panel1tag  \\\n",
       "0    Crystal structures of CuO products.  (a-b) XRD...          xrd   \n",
       "1    FESEM images. (a) [Cu(NH 3) 4] 2+ complex, (b)...   microscopy   \n",
       "2    Voltage profiles of CuO. Galvanostatic dischar...  echem_v_cap   \n",
       "3    XRD pattern of the CuO/MWCNT composites. (a) X...          xrd   \n",
       "4    Cyclic voltammetry for pure CuO and CuO/MWCNT....    echem_c_v   \n",
       "..                                                 ...          ...   \n",
       "399  (a) N 2 isotherm absorption-desorption curves ...          bet   \n",
       "400  (a_ c) Cross-sectional scanning electron micro...   microscopy   \n",
       "401  (a_ d) Transmission electron microscope (TEM) ...   microscopy   \n",
       "402  (a, b) Galvanostatic discharge/charge curves o...  echem_v_cap   \n",
       "403  (a) Cyclic voltammetry (CV) curves of Si/rGO a...    echem_c_v   \n",
       "\n",
       "       panel2tag        panel3tag        panel4tag   panel5tag   panel6tag  \\\n",
       "0     microscopy       microscopy       microscopy         NaN         NaN   \n",
       "1     microscopy       microscopy       microscopy  microscopy  microscopy   \n",
       "2            NaN              NaN              NaN         NaN         NaN   \n",
       "3            tga       microscopy       microscopy         NaN         NaN   \n",
       "4            NaN              NaN              NaN         NaN         NaN   \n",
       "..           ...              ...              ...         ...         ...   \n",
       "399          bet              NaN              NaN         NaN         NaN   \n",
       "400   microscopy       microscopy       microscopy  microscopy  microscopy   \n",
       "401   microscopy       microscopy       microscopy         NaN         NaN   \n",
       "402  echem_v_cap  echem_cap_cycle  echem_cap_cycle         NaN         NaN   \n",
       "403    echem_c_v        impedance        impedance         NaN         NaN   \n",
       "\n",
       "    panel7tag panel8tag panel9tag panel10tag panel11tag panel12tag  \n",
       "0         NaN       NaN       NaN        NaN        NaN        NaN  \n",
       "1     graphic       NaN       NaN        NaN        NaN        NaN  \n",
       "2         NaN       NaN       NaN        NaN        NaN        NaN  \n",
       "3         NaN       NaN       NaN        NaN        NaN        NaN  \n",
       "4         NaN       NaN       NaN        NaN        NaN        NaN  \n",
       "..        ...       ...       ...        ...        ...        ...  \n",
       "399       NaN       NaN       NaN        NaN        NaN        NaN  \n",
       "400       NaN       NaN       NaN        NaN        NaN        NaN  \n",
       "401       NaN       NaN       NaN        NaN        NaN        NaN  \n",
       "402       NaN       NaN       NaN        NaN        NaN        NaN  \n",
       "403       NaN       NaN       NaN        NaN        NaN        NaN  \n",
       "\n",
       "[404 rows x 15 columns]"
      ]
     },
     "execution_count": 29,
     "metadata": {},
     "output_type": "execute_result"
    }
   ],
   "source": [
    "df"
   ]
  },
  {
   "cell_type": "code",
   "execution_count": 30,
   "metadata": {
    "button": false,
    "collapsed": true,
    "deletable": true,
    "new_sheet": false,
    "run_control": {
     "read_only": false
    }
   },
   "outputs": [],
   "source": [
    "df['concat'] = (df['panel1tag'].map(str) + ',' + df['panel2tag'].map(str) + ',' + \n",
    "df['panel3tag'].map(str) + ',' + df['panel4tag'].map(str) + ',' + \n",
    "df['panel5tag'].map(str) + ',' + df['panel6tag'].map(str) + ',' + \n",
    "df['panel7tag'].map(str) + ',' + df['panel8tag'].map(str) + ',' + \n",
    "df['panel9tag'].map(str) + ',' + df['panel10tag'].map(str) + ',' + \n",
    "df['panel11tag'].map(str) + ',' + df['panel12tag'].map(str))"
   ]
  },
  {
   "cell_type": "code",
   "execution_count": 31,
   "metadata": {
    "button": false,
    "collapsed": true,
    "deletable": true,
    "new_sheet": false,
    "run_control": {
     "read_only": false
    }
   },
   "outputs": [],
   "source": [
    "df['echem'] = (df['concat'].str.contains('echem')==True)"
   ]
  },
  {
   "cell_type": "code",
   "execution_count": 32,
   "metadata": {
    "button": false,
    "collapsed": false,
    "deletable": true,
    "new_sheet": false,
    "run_control": {
     "read_only": false
    }
   },
   "outputs": [
    {
     "data": {
      "text/html": [
       "<div>\n",
       "<style scoped>\n",
       "    .dataframe tbody tr th:only-of-type {\n",
       "        vertical-align: middle;\n",
       "    }\n",
       "\n",
       "    .dataframe tbody tr th {\n",
       "        vertical-align: top;\n",
       "    }\n",
       "\n",
       "    .dataframe thead th {\n",
       "        text-align: right;\n",
       "    }\n",
       "</style>\n",
       "<table border=\"1\" class=\"dataframe\">\n",
       "  <thead>\n",
       "    <tr style=\"text-align: right;\">\n",
       "      <th></th>\n",
       "      <th>Paper</th>\n",
       "      <th>Image</th>\n",
       "      <th>Captionfull</th>\n",
       "      <th>panel1tag</th>\n",
       "      <th>panel2tag</th>\n",
       "      <th>panel3tag</th>\n",
       "      <th>panel4tag</th>\n",
       "      <th>panel5tag</th>\n",
       "      <th>panel6tag</th>\n",
       "      <th>panel7tag</th>\n",
       "      <th>panel8tag</th>\n",
       "      <th>panel9tag</th>\n",
       "      <th>panel10tag</th>\n",
       "      <th>panel11tag</th>\n",
       "      <th>panel12tag</th>\n",
       "      <th>concat</th>\n",
       "      <th>echem</th>\n",
       "    </tr>\n",
       "  </thead>\n",
       "  <tbody>\n",
       "    <tr>\n",
       "      <th>0</th>\n",
       "      <td>PMC3211491</td>\n",
       "      <td>image.3.1.64_532.102_571.png</td>\n",
       "      <td>Crystal structures of CuO products.  (a-b) XRD...</td>\n",
       "      <td>xrd</td>\n",
       "      <td>microscopy</td>\n",
       "      <td>microscopy</td>\n",
       "      <td>microscopy</td>\n",
       "      <td>NaN</td>\n",
       "      <td>NaN</td>\n",
       "      <td>NaN</td>\n",
       "      <td>NaN</td>\n",
       "      <td>NaN</td>\n",
       "      <td>NaN</td>\n",
       "      <td>NaN</td>\n",
       "      <td>NaN</td>\n",
       "      <td>xrd,microscopy,microscopy,microscopy,nan,nan,n...</td>\n",
       "      <td>False</td>\n",
       "    </tr>\n",
       "    <tr>\n",
       "      <th>1</th>\n",
       "      <td>PMC3211491</td>\n",
       "      <td>image.4.1.64_532.102_336.png</td>\n",
       "      <td>FESEM images. (a) [Cu(NH 3) 4] 2+ complex, (b)...</td>\n",
       "      <td>microscopy</td>\n",
       "      <td>microscopy</td>\n",
       "      <td>microscopy</td>\n",
       "      <td>microscopy</td>\n",
       "      <td>microscopy</td>\n",
       "      <td>microscopy</td>\n",
       "      <td>graphic</td>\n",
       "      <td>NaN</td>\n",
       "      <td>NaN</td>\n",
       "      <td>NaN</td>\n",
       "      <td>NaN</td>\n",
       "      <td>NaN</td>\n",
       "      <td>microscopy,microscopy,microscopy,microscopy,mi...</td>\n",
       "      <td>False</td>\n",
       "    </tr>\n",
       "    <tr>\n",
       "      <th>2</th>\n",
       "      <td>PMC3211491</td>\n",
       "      <td>image.4.2.313_531.492_708.png</td>\n",
       "      <td>Voltage profiles of CuO. Galvanostatic dischar...</td>\n",
       "      <td>echem_v_cap</td>\n",
       "      <td>NaN</td>\n",
       "      <td>NaN</td>\n",
       "      <td>NaN</td>\n",
       "      <td>NaN</td>\n",
       "      <td>NaN</td>\n",
       "      <td>NaN</td>\n",
       "      <td>NaN</td>\n",
       "      <td>NaN</td>\n",
       "      <td>NaN</td>\n",
       "      <td>NaN</td>\n",
       "      <td>NaN</td>\n",
       "      <td>echem_v_cap,nan,nan,nan,nan,nan,nan,nan,nan,na...</td>\n",
       "      <td>True</td>\n",
       "    </tr>\n",
       "    <tr>\n",
       "      <th>3</th>\n",
       "      <td>PMC3211491</td>\n",
       "      <td>image.5.1.63_533.240_708.png</td>\n",
       "      <td>XRD pattern of the CuO/MWCNT composites. (a) X...</td>\n",
       "      <td>xrd</td>\n",
       "      <td>tga</td>\n",
       "      <td>microscopy</td>\n",
       "      <td>microscopy</td>\n",
       "      <td>NaN</td>\n",
       "      <td>NaN</td>\n",
       "      <td>NaN</td>\n",
       "      <td>NaN</td>\n",
       "      <td>NaN</td>\n",
       "      <td>NaN</td>\n",
       "      <td>NaN</td>\n",
       "      <td>NaN</td>\n",
       "      <td>xrd,tga,microscopy,microscopy,nan,nan,nan,nan,...</td>\n",
       "      <td>False</td>\n",
       "    </tr>\n",
       "    <tr>\n",
       "      <th>4</th>\n",
       "      <td>PMC3211491</td>\n",
       "      <td>image.6.1.63_286.483_698.png</td>\n",
       "      <td>Cyclic voltammetry for pure CuO and CuO/MWCNT....</td>\n",
       "      <td>echem_c_v</td>\n",
       "      <td>NaN</td>\n",
       "      <td>NaN</td>\n",
       "      <td>NaN</td>\n",
       "      <td>NaN</td>\n",
       "      <td>NaN</td>\n",
       "      <td>NaN</td>\n",
       "      <td>NaN</td>\n",
       "      <td>NaN</td>\n",
       "      <td>NaN</td>\n",
       "      <td>NaN</td>\n",
       "      <td>NaN</td>\n",
       "      <td>echem_c_v,nan,nan,nan,nan,nan,nan,nan,nan,nan,...</td>\n",
       "      <td>True</td>\n",
       "    </tr>\n",
       "    <tr>\n",
       "      <th>...</th>\n",
       "      <td>...</td>\n",
       "      <td>...</td>\n",
       "      <td>...</td>\n",
       "      <td>...</td>\n",
       "      <td>...</td>\n",
       "      <td>...</td>\n",
       "      <td>...</td>\n",
       "      <td>...</td>\n",
       "      <td>...</td>\n",
       "      <td>...</td>\n",
       "      <td>...</td>\n",
       "      <td>...</td>\n",
       "      <td>...</td>\n",
       "      <td>...</td>\n",
       "      <td>...</td>\n",
       "      <td>...</td>\n",
       "      <td>...</td>\n",
       "    </tr>\n",
       "    <tr>\n",
       "      <th>399</th>\n",
       "      <td>PMC6523080</td>\n",
       "      <td>image.6.2.97_504.422_556</td>\n",
       "      <td>(a) N 2 isotherm absorption-desorption curves ...</td>\n",
       "      <td>bet</td>\n",
       "      <td>bet</td>\n",
       "      <td>NaN</td>\n",
       "      <td>NaN</td>\n",
       "      <td>NaN</td>\n",
       "      <td>NaN</td>\n",
       "      <td>NaN</td>\n",
       "      <td>NaN</td>\n",
       "      <td>NaN</td>\n",
       "      <td>NaN</td>\n",
       "      <td>NaN</td>\n",
       "      <td>NaN</td>\n",
       "      <td>bet,bet,nan,nan,nan,nan,nan,nan,nan,nan,nan,nan</td>\n",
       "      <td>False</td>\n",
       "    </tr>\n",
       "    <tr>\n",
       "      <th>400</th>\n",
       "      <td>PMC6523080</td>\n",
       "      <td>image.7.1.122_472.262_467</td>\n",
       "      <td>(a_ c) Cross-sectional scanning electron micro...</td>\n",
       "      <td>microscopy</td>\n",
       "      <td>microscopy</td>\n",
       "      <td>microscopy</td>\n",
       "      <td>microscopy</td>\n",
       "      <td>microscopy</td>\n",
       "      <td>microscopy</td>\n",
       "      <td>NaN</td>\n",
       "      <td>NaN</td>\n",
       "      <td>NaN</td>\n",
       "      <td>NaN</td>\n",
       "      <td>NaN</td>\n",
       "      <td>NaN</td>\n",
       "      <td>microscopy,microscopy,microscopy,microscopy,mi...</td>\n",
       "      <td>False</td>\n",
       "    </tr>\n",
       "    <tr>\n",
       "      <th>401</th>\n",
       "      <td>PMC6523080</td>\n",
       "      <td>image.8.1.195_400.89_292</td>\n",
       "      <td>(a_ d) Transmission electron microscope (TEM) ...</td>\n",
       "      <td>microscopy</td>\n",
       "      <td>microscopy</td>\n",
       "      <td>microscopy</td>\n",
       "      <td>microscopy</td>\n",
       "      <td>NaN</td>\n",
       "      <td>NaN</td>\n",
       "      <td>NaN</td>\n",
       "      <td>NaN</td>\n",
       "      <td>NaN</td>\n",
       "      <td>NaN</td>\n",
       "      <td>NaN</td>\n",
       "      <td>NaN</td>\n",
       "      <td>microscopy,microscopy,microscopy,microscopy,na...</td>\n",
       "      <td>False</td>\n",
       "    </tr>\n",
       "    <tr>\n",
       "      <th>402</th>\n",
       "      <td>PMC6523080</td>\n",
       "      <td>image.10.1.114_482.49_311</td>\n",
       "      <td>(a, b) Galvanostatic discharge/charge curves o...</td>\n",
       "      <td>echem_v_cap</td>\n",
       "      <td>echem_v_cap</td>\n",
       "      <td>echem_cap_cycle</td>\n",
       "      <td>echem_cap_cycle</td>\n",
       "      <td>NaN</td>\n",
       "      <td>NaN</td>\n",
       "      <td>NaN</td>\n",
       "      <td>NaN</td>\n",
       "      <td>NaN</td>\n",
       "      <td>NaN</td>\n",
       "      <td>NaN</td>\n",
       "      <td>NaN</td>\n",
       "      <td>echem_v_cap,echem_v_cap,echem_cap_cycle,echem_...</td>\n",
       "      <td>True</td>\n",
       "    </tr>\n",
       "    <tr>\n",
       "      <th>403</th>\n",
       "      <td>PMC6523080</td>\n",
       "      <td>image.11.1.109_486.324_590</td>\n",
       "      <td>(a) Cyclic voltammetry (CV) curves of Si/rGO a...</td>\n",
       "      <td>echem_c_v</td>\n",
       "      <td>echem_c_v</td>\n",
       "      <td>impedance</td>\n",
       "      <td>impedance</td>\n",
       "      <td>NaN</td>\n",
       "      <td>NaN</td>\n",
       "      <td>NaN</td>\n",
       "      <td>NaN</td>\n",
       "      <td>NaN</td>\n",
       "      <td>NaN</td>\n",
       "      <td>NaN</td>\n",
       "      <td>NaN</td>\n",
       "      <td>echem_c_v,echem_c_v,impedance,impedance,nan,na...</td>\n",
       "      <td>True</td>\n",
       "    </tr>\n",
       "  </tbody>\n",
       "</table>\n",
       "<p>404 rows × 17 columns</p>\n",
       "</div>"
      ],
      "text/plain": [
       "          Paper                          Image  \\\n",
       "0    PMC3211491   image.3.1.64_532.102_571.png   \n",
       "1    PMC3211491   image.4.1.64_532.102_336.png   \n",
       "2    PMC3211491  image.4.2.313_531.492_708.png   \n",
       "3    PMC3211491   image.5.1.63_533.240_708.png   \n",
       "4    PMC3211491   image.6.1.63_286.483_698.png   \n",
       "..          ...                            ...   \n",
       "399  PMC6523080       image.6.2.97_504.422_556   \n",
       "400  PMC6523080      image.7.1.122_472.262_467   \n",
       "401  PMC6523080       image.8.1.195_400.89_292   \n",
       "402  PMC6523080      image.10.1.114_482.49_311   \n",
       "403  PMC6523080     image.11.1.109_486.324_590   \n",
       "\n",
       "                                           Captionfull    panel1tag  \\\n",
       "0    Crystal structures of CuO products.  (a-b) XRD...          xrd   \n",
       "1    FESEM images. (a) [Cu(NH 3) 4] 2+ complex, (b)...   microscopy   \n",
       "2    Voltage profiles of CuO. Galvanostatic dischar...  echem_v_cap   \n",
       "3    XRD pattern of the CuO/MWCNT composites. (a) X...          xrd   \n",
       "4    Cyclic voltammetry for pure CuO and CuO/MWCNT....    echem_c_v   \n",
       "..                                                 ...          ...   \n",
       "399  (a) N 2 isotherm absorption-desorption curves ...          bet   \n",
       "400  (a_ c) Cross-sectional scanning electron micro...   microscopy   \n",
       "401  (a_ d) Transmission electron microscope (TEM) ...   microscopy   \n",
       "402  (a, b) Galvanostatic discharge/charge curves o...  echem_v_cap   \n",
       "403  (a) Cyclic voltammetry (CV) curves of Si/rGO a...    echem_c_v   \n",
       "\n",
       "       panel2tag        panel3tag        panel4tag   panel5tag   panel6tag  \\\n",
       "0     microscopy       microscopy       microscopy         NaN         NaN   \n",
       "1     microscopy       microscopy       microscopy  microscopy  microscopy   \n",
       "2            NaN              NaN              NaN         NaN         NaN   \n",
       "3            tga       microscopy       microscopy         NaN         NaN   \n",
       "4            NaN              NaN              NaN         NaN         NaN   \n",
       "..           ...              ...              ...         ...         ...   \n",
       "399          bet              NaN              NaN         NaN         NaN   \n",
       "400   microscopy       microscopy       microscopy  microscopy  microscopy   \n",
       "401   microscopy       microscopy       microscopy         NaN         NaN   \n",
       "402  echem_v_cap  echem_cap_cycle  echem_cap_cycle         NaN         NaN   \n",
       "403    echem_c_v        impedance        impedance         NaN         NaN   \n",
       "\n",
       "    panel7tag panel8tag panel9tag panel10tag panel11tag panel12tag  \\\n",
       "0         NaN       NaN       NaN        NaN        NaN        NaN   \n",
       "1     graphic       NaN       NaN        NaN        NaN        NaN   \n",
       "2         NaN       NaN       NaN        NaN        NaN        NaN   \n",
       "3         NaN       NaN       NaN        NaN        NaN        NaN   \n",
       "4         NaN       NaN       NaN        NaN        NaN        NaN   \n",
       "..        ...       ...       ...        ...        ...        ...   \n",
       "399       NaN       NaN       NaN        NaN        NaN        NaN   \n",
       "400       NaN       NaN       NaN        NaN        NaN        NaN   \n",
       "401       NaN       NaN       NaN        NaN        NaN        NaN   \n",
       "402       NaN       NaN       NaN        NaN        NaN        NaN   \n",
       "403       NaN       NaN       NaN        NaN        NaN        NaN   \n",
       "\n",
       "                                                concat  echem  \n",
       "0    xrd,microscopy,microscopy,microscopy,nan,nan,n...  False  \n",
       "1    microscopy,microscopy,microscopy,microscopy,mi...  False  \n",
       "2    echem_v_cap,nan,nan,nan,nan,nan,nan,nan,nan,na...   True  \n",
       "3    xrd,tga,microscopy,microscopy,nan,nan,nan,nan,...  False  \n",
       "4    echem_c_v,nan,nan,nan,nan,nan,nan,nan,nan,nan,...   True  \n",
       "..                                                 ...    ...  \n",
       "399    bet,bet,nan,nan,nan,nan,nan,nan,nan,nan,nan,nan  False  \n",
       "400  microscopy,microscopy,microscopy,microscopy,mi...  False  \n",
       "401  microscopy,microscopy,microscopy,microscopy,na...  False  \n",
       "402  echem_v_cap,echem_v_cap,echem_cap_cycle,echem_...   True  \n",
       "403  echem_c_v,echem_c_v,impedance,impedance,nan,na...   True  \n",
       "\n",
       "[404 rows x 17 columns]"
      ]
     },
     "execution_count": 32,
     "metadata": {},
     "output_type": "execute_result"
    }
   ],
   "source": [
    "df"
   ]
  },
  {
   "cell_type": "code",
   "execution_count": 33,
   "metadata": {
    "button": false,
    "collapsed": true,
    "deletable": true,
    "new_sheet": false,
    "run_control": {
     "read_only": false
    }
   },
   "outputs": [],
   "source": [
    "from sklearn.model_selection import train_test_split"
   ]
  },
  {
   "cell_type": "code",
   "execution_count": 34,
   "metadata": {
    "button": false,
    "collapsed": true,
    "deletable": true,
    "new_sheet": false,
    "run_control": {
     "read_only": false
    }
   },
   "outputs": [],
   "source": [
    "captions = df['Captionfull'].values\n",
    "y = df['echem'].values"
   ]
  },
  {
   "cell_type": "code",
   "execution_count": 35,
   "metadata": {
    "button": false,
    "collapsed": true,
    "deletable": true,
    "new_sheet": false,
    "run_control": {
     "read_only": false
    }
   },
   "outputs": [],
   "source": [
    "captions_train, captions_test, y_train, y_test = train_test_split(captions, y, test_size=0.25, random_state=1000)"
   ]
  },
  {
   "cell_type": "code",
   "execution_count": 36,
   "metadata": {
    "button": false,
    "collapsed": false,
    "deletable": true,
    "new_sheet": false,
    "run_control": {
     "read_only": false
    }
   },
   "outputs": [
    {
     "data": {
      "text/plain": [
       "<303x2110 sparse matrix of type '<class 'numpy.int64'>'\n",
       "\twith 8443 stored elements in Compressed Sparse Row format>"
      ]
     },
     "execution_count": 36,
     "metadata": {},
     "output_type": "execute_result"
    }
   ],
   "source": [
    "from sklearn.feature_extraction.text import CountVectorizer\n",
    "vectorizer = CountVectorizer()\n",
    "vectorizer.fit(captions_train)\n",
    "X_train = vectorizer.transform(captions_train)\n",
    "X_test  = vectorizer.transform(captions_test)\n",
    "X_train"
   ]
  },
  {
   "cell_type": "code",
   "execution_count": 37,
   "metadata": {
    "button": false,
    "collapsed": false,
    "deletable": true,
    "new_sheet": false,
    "run_control": {
     "read_only": false
    }
   },
   "outputs": [
    {
     "name": "stdout",
     "output_type": "stream",
     "text": [
      "Accuracy: 0.8712871287128713\n"
     ]
    }
   ],
   "source": [
    "from sklearn.linear_model import LogisticRegression\n",
    "classifier = LogisticRegression()\n",
    "classifier.fit(X_train, y_train)\n",
    "score = classifier.score(X_test, y_test)\n",
    "print(\"Accuracy:\", score)"
   ]
  },
  {
   "cell_type": "code",
   "execution_count": 38,
   "metadata": {
    "button": false,
    "collapsed": true,
    "deletable": true,
    "new_sheet": false,
    "run_control": {
     "read_only": false
    }
   },
   "outputs": [],
   "source": [
    "from keras.models import Sequential\n",
    "from keras import layers"
   ]
  },
  {
   "cell_type": "code",
   "execution_count": 39,
   "metadata": {
    "button": false,
    "collapsed": true,
    "deletable": true,
    "new_sheet": false,
    "run_control": {
     "read_only": false
    }
   },
   "outputs": [],
   "source": [
    "input_dim = X_train.shape[1]  # Number of features\n",
    "model = Sequential()\n",
    "model.add(layers.Dense(10, input_dim=input_dim, activation='relu'))\n",
    "model.add(layers.Dense(1, activation='sigmoid'))"
   ]
  },
  {
   "cell_type": "code",
   "execution_count": 40,
   "metadata": {
    "button": false,
    "collapsed": false,
    "deletable": true,
    "new_sheet": false,
    "run_control": {
     "read_only": false
    }
   },
   "outputs": [
    {
     "name": "stdout",
     "output_type": "stream",
     "text": [
      "Model: \"sequential_1\"\n",
      "_________________________________________________________________\n",
      "Layer (type)                 Output Shape              Param #   \n",
      "=================================================================\n",
      "dense_2 (Dense)              (None, 10)                21110     \n",
      "_________________________________________________________________\n",
      "dense_3 (Dense)              (None, 1)                 11        \n",
      "=================================================================\n",
      "Total params: 21,121\n",
      "Trainable params: 21,121\n",
      "Non-trainable params: 0\n",
      "_________________________________________________________________\n"
     ]
    }
   ],
   "source": [
    "model.compile(loss='binary_crossentropy', optimizer='adam', metrics=['accuracy'])\n",
    "model.summary()"
   ]
  },
  {
   "cell_type": "code",
   "execution_count": 41,
   "metadata": {
    "button": false,
    "collapsed": true,
    "deletable": true,
    "new_sheet": false,
    "run_control": {
     "read_only": false
    }
   },
   "outputs": [],
   "source": [
    "history = model.fit(X_train, y_train, epochs=100, verbose=False, validation_data=(X_test, y_test), batch_size=10)"
   ]
  },
  {
   "cell_type": "code",
   "execution_count": 42,
   "metadata": {
    "button": false,
    "collapsed": false,
    "deletable": true,
    "new_sheet": false,
    "run_control": {
     "read_only": false
    }
   },
   "outputs": [
    {
     "name": "stdout",
     "output_type": "stream",
     "text": [
      "Training Accuracy: 1.0000\n",
      "Testing Accuracy:  0.8911\n"
     ]
    }
   ],
   "source": [
    "loss, accuracy = model.evaluate(X_train, y_train, verbose=False)\n",
    "print(\"Training Accuracy: {:.4f}\".format(accuracy))\n",
    "loss, accuracy = model.evaluate(X_test, y_test, verbose=False)\n",
    "print(\"Testing Accuracy:  {:.4f}\".format(accuracy))"
   ]
  },
  {
   "cell_type": "code",
   "execution_count": 43,
   "metadata": {
    "button": false,
    "collapsed": true,
    "deletable": true,
    "new_sheet": false,
    "run_control": {
     "read_only": false
    }
   },
   "outputs": [],
   "source": [
    "import matplotlib.pyplot as plt\n",
    "plt.style.use('ggplot')\n",
    "\n",
    "def plot_history(history, string):\n",
    "    acc = history.history['accuracy']\n",
    "    val_acc = history.history['val_accuracy']\n",
    "    loss = history.history['loss']\n",
    "    val_loss = history.history['val_loss']\n",
    "    x = range(1, len(acc) + 1)\n",
    "\n",
    "    plt.figure(figsize=(12, 5))\n",
    "    plt.subplot(1, 2, 1)\n",
    "    plt.plot(x, acc, 'b', label='Training acc')\n",
    "    plt.plot(x, val_acc, 'r', label='Validation acc')\n",
    "    plt.title('Training and validation accuracy')\n",
    "    plt.legend()\n",
    "    plt.subplot(1, 2, 2)\n",
    "    plt.plot(x, loss, 'b', label='Training loss')\n",
    "    plt.plot(x, val_loss, 'r', label='Validation loss')\n",
    "    plt.title('Training and validation loss')\n",
    "    plt.savefig(string +'_plot.pdf')\n",
    "    plt.legend()"
   ]
  },
  {
   "cell_type": "code",
   "execution_count": 44,
   "metadata": {
    "button": false,
    "collapsed": false,
    "deletable": true,
    "new_sheet": false,
    "run_control": {
     "read_only": false
    }
   },
   "outputs": [
    {
     "data": {
      "image/png": "[encoded data removed]",
      "text/plain": [
       "<Figure size 864x360 with 2 Axes>"
      ]
     },
     "metadata": {},
     "output_type": "display_data"
    }
   ],
   "source": [
    "plot_history(history, 'seq_model')"
   ]
  },
  {
   "cell_type": "code",
   "execution_count": 45,
   "metadata": {
    "button": false,
    "collapsed": false,
    "deletable": true,
    "new_sheet": false,
    "run_control": {
     "read_only": false
    }
   },
   "outputs": [
    {
     "name": "stdout",
     "output_type": "stream",
     "text": [
      "Rate performances of ZnFe 2O 4-450 at various current densities from 0.5 to 20_A g _1 in 1_M LiPF 6/EC/DMC. \n",
      "[21, 304, 1, 537, 99, 15, 464, 11, 88, 33, 161, 29, 6, 24, 18, 52, 4, 19, 8, 10, 8, 51, 258, 60, 174, 282]\n"
     ]
    }
   ],
   "source": [
    "from keras.preprocessing.text import Tokenizer\n",
    "\n",
    "tokenizer = Tokenizer(num_words=5000)\n",
    "tokenizer.fit_on_texts(captions_train)\n",
    "\n",
    "X_train = tokenizer.texts_to_sequences(captions_train)\n",
    "X_test = tokenizer.texts_to_sequences(captions_test)\n",
    "\n",
    "vocab_size = len(tokenizer.word_index) + 1  # Adding 1 because of reserved 0 index\n",
    "\n",
    "print(captions_train[2])\n",
    "print(X_train[2])"
   ]
  },
  {
   "cell_type": "code",
   "execution_count": 46,
   "metadata": {
    "button": false,
    "collapsed": false,
    "deletable": true,
    "new_sheet": false,
    "run_control": {
     "read_only": false
    }
   },
   "outputs": [
    {
     "name": "stdout",
     "output_type": "stream",
     "text": [
      "[  4  34  22   1   2 531  27 336   7  34  22   1   2 107 371 336   0   0\n",
      "   0   0   0   0   0   0   0   0   0   0   0   0   0   0   0   0   0   0\n",
      "   0   0   0   0   0   0   0   0   0   0   0   0   0   0   0   0   0   0\n",
      "   0   0   0   0   0   0   0   0   0   0   0   0   0   0   0   0   0   0\n",
      "   0   0   0   0   0   0   0   0   0   0   0   0   0   0   0   0   0   0\n",
      "   0   0   0   0   0   0   0   0   0   0]\n"
     ]
    }
   ],
   "source": [
    "from keras.preprocessing.sequence import pad_sequences\n",
    "\n",
    "maxlen = 100\n",
    "\n",
    "X_train = pad_sequences(X_train, padding='post', maxlen=maxlen)\n",
    "X_test = pad_sequences(X_test, padding='post', maxlen=maxlen)\n",
    "\n",
    "print(X_train[0, :])"
   ]
  },
  {
   "cell_type": "code",
   "execution_count": 47,
   "metadata": {
    "button": false,
    "collapsed": false,
    "deletable": true,
    "new_sheet": false,
    "run_control": {
     "read_only": false
    }
   },
   "outputs": [
    {
     "name": "stdout",
     "output_type": "stream",
     "text": [
      "Model: \"sequential_2\"\n",
      "_________________________________________________________________\n",
      "Layer (type)                 Output Shape              Param #   \n",
      "=================================================================\n",
      "embedding (Embedding)        (None, 100, 50)           98850     \n",
      "_________________________________________________________________\n",
      "flatten (Flatten)            (None, 5000)              0         \n",
      "_________________________________________________________________\n",
      "dense_4 (Dense)              (None, 10)                50010     \n",
      "_________________________________________________________________\n",
      "dense_5 (Dense)              (None, 1)                 11        \n",
      "=================================================================\n",
      "Total params: 148,871\n",
      "Trainable params: 148,871\n",
      "Non-trainable params: 0\n",
      "_________________________________________________________________\n"
     ]
    }
   ],
   "source": [
    "from keras.models import Sequential\n",
    "from keras import layers\n",
    "\n",
    "embedding_dim = 50\n",
    "\n",
    "model = Sequential()\n",
    "model.add(layers.Embedding(input_dim=vocab_size, \n",
    "                           output_dim=embedding_dim, \n",
    "                           input_length=maxlen))\n",
    "model.add(layers.Flatten())\n",
    "model.add(layers.Dense(10, activation='relu'))\n",
    "model.add(layers.Dense(1, activation='sigmoid'))\n",
    "model.compile(optimizer='adam',\n",
    "              loss='binary_crossentropy',\n",
    "              metrics=['accuracy'])\n",
    "model.summary()"
   ]
  },
  {
   "cell_type": "code",
   "execution_count": 48,
   "metadata": {
    "button": false,
    "collapsed": false,
    "deletable": true,
    "new_sheet": false,
    "run_control": {
     "read_only": false
    }
   },
   "outputs": [
    {
     "name": "stdout",
     "output_type": "stream",
     "text": [
      "Training Accuracy: 1.0000\n",
      "Testing Accuracy:  0.9208\n"
     ]
    },
    {
     "data": {
      "image/png": "[encoded data removed]",
      "text/plain": [
       "<Figure size 864x360 with 2 Axes>"
      ]
     },
     "metadata": {},
     "output_type": "display_data"
    }
   ],
   "source": [
    "history = model.fit(X_train, y_train,\n",
    "                    epochs=20,\n",
    "                    verbose=False,\n",
    "                    validation_data=(X_test, y_test),\n",
    "                    batch_size=10)\n",
    "loss, accuracy = model.evaluate(X_train, y_train, verbose=False)\n",
    "print(\"Training Accuracy: {:.4f}\".format(accuracy))\n",
    "loss, accuracy = model.evaluate(X_test, y_test, verbose=False)\n",
    "print(\"Testing Accuracy:  {:.4f}\".format(accuracy))\n",
    "plot_history(history, 'seq_embedding')"
   ]
  },
  {
   "cell_type": "code",
   "execution_count": 49,
   "metadata": {
    "button": false,
    "collapsed": false,
    "deletable": true,
    "new_sheet": false,
    "run_control": {
     "read_only": false
    }
   },
   "outputs": [
    {
     "name": "stdout",
     "output_type": "stream",
     "text": [
      "Model: \"sequential_3\"\n",
      "_________________________________________________________________\n",
      "Layer (type)                 Output Shape              Param #   \n",
      "=================================================================\n",
      "embedding_1 (Embedding)      (None, 100, 50)           98850     \n",
      "_________________________________________________________________\n",
      "global_max_pooling1d (Global (None, 50)                0         \n",
      "_________________________________________________________________\n",
      "dense_6 (Dense)              (None, 10)                510       \n",
      "_________________________________________________________________\n",
      "dense_7 (Dense)              (None, 1)                 11        \n",
      "=================================================================\n",
      "Total params: 99,371\n",
      "Trainable params: 99,371\n",
      "Non-trainable params: 0\n",
      "_________________________________________________________________\n"
     ]
    }
   ],
   "source": [
    "from keras.models import Sequential\n",
    "from keras import layers\n",
    "\n",
    "embedding_dim = 50\n",
    "\n",
    "model = Sequential()\n",
    "model.add(layers.Embedding(input_dim=vocab_size, \n",
    "                           output_dim=embedding_dim, \n",
    "                           input_length=maxlen))\n",
    "model.add(layers.GlobalMaxPool1D())\n",
    "model.add(layers.Dense(10, activation='relu'))\n",
    "model.add(layers.Dense(1, activation='sigmoid'))\n",
    "model.compile(optimizer='adam',\n",
    "              loss='binary_crossentropy',\n",
    "              metrics=['accuracy'])\n",
    "model.summary()"
   ]
  },
  {
   "cell_type": "code",
   "execution_count": 50,
   "metadata": {
    "button": false,
    "collapsed": false,
    "deletable": true,
    "new_sheet": false,
    "run_control": {
     "read_only": false
    }
   },
   "outputs": [
    {
     "name": "stdout",
     "output_type": "stream",
     "text": [
      "Training Accuracy: 1.0000\n",
      "Testing Accuracy:  0.9505\n"
     ]
    },
    {
     "data": {
      "image/png": "[encoded data removed]",
      "text/plain": [
       "<Figure size 864x360 with 2 Axes>"
      ]
     },
     "metadata": {},
     "output_type": "display_data"
    }
   ],
   "source": [
    "history = model.fit(X_train, y_train,\n",
    "                    epochs=50,\n",
    "                    verbose=False,\n",
    "                    validation_data=(X_test, y_test),\n",
    "                    batch_size=10)\n",
    "loss, accuracy = model.evaluate(X_train, y_train, verbose=False)\n",
    "print(\"Training Accuracy: {:.4f}\".format(accuracy))\n",
    "loss, accuracy = model.evaluate(X_test, y_test, verbose=False)\n",
    "print(\"Testing Accuracy:  {:.4f}\".format(accuracy))\n",
    "plot_history(history, 'embedding_max_pooling')"
   ]
  },
  {
   "cell_type": "code",
   "execution_count": 51,
   "metadata": {
    "button": false,
    "collapsed": true,
    "deletable": true,
    "new_sheet": false,
    "run_control": {
     "read_only": false
    }
   },
   "outputs": [],
   "source": [
    "import numpy as np\n",
    "\n",
    "def create_embedding_matrix(filepath, word_index, embedding_dim):\n",
    "    vocab_size = len(word_index) + 1  # Adding again 1 because of reserved 0 index\n",
    "    embedding_matrix = np.zeros((vocab_size, embedding_dim))\n",
    "\n",
    "    with open(filepath) as f:\n",
    "        for line in f:\n",
    "            word, *vector = line.split()\n",
    "            if word in word_index:\n",
    "                idx = word_index[word] \n",
    "                embedding_matrix[idx] = np.array(\n",
    "                    vector, dtype=np.float32)[:embedding_dim]\n",
    "\n",
    "    return embedding_matrix"
   ]
  },
  {
   "cell_type": "code",
   "execution_count": 52,
   "metadata": {
    "button": false,
    "collapsed": true,
    "deletable": true,
    "new_sheet": false,
    "run_control": {
     "read_only": false
    }
   },
   "outputs": [],
   "source": [
    "embedding_dim = 50\n",
    "embedding_matrix = create_embedding_matrix('glove.6B.50d.txt', \n",
    "                                           tokenizer.word_index, embedding_dim)"
   ]
  },
  {
   "cell_type": "code",
   "execution_count": 53,
   "metadata": {
    "button": false,
    "collapsed": false,
    "deletable": true,
    "new_sheet": false,
    "run_control": {
     "read_only": false
    }
   },
   "outputs": [
    {
     "data": {
      "text/plain": [
       "0.9109762266059687"
      ]
     },
     "execution_count": 53,
     "metadata": {},
     "output_type": "execute_result"
    }
   ],
   "source": [
    "nonzero_elements = np.count_nonzero(np.count_nonzero(embedding_matrix, axis=1))\n",
    "nonzero_elements / vocab_size"
   ]
  },
  {
   "cell_type": "code",
   "execution_count": 54,
   "metadata": {
    "button": false,
    "collapsed": false,
    "deletable": true,
    "new_sheet": false,
    "run_control": {
     "read_only": false
    }
   },
   "outputs": [
    {
     "name": "stdout",
     "output_type": "stream",
     "text": [
      "Model: \"sequential_4\"\n",
      "_________________________________________________________________\n",
      "Layer (type)                 Output Shape              Param #   \n",
      "=================================================================\n",
      "embedding_2 (Embedding)      (None, 100, 50)           98850     \n",
      "_________________________________________________________________\n",
      "global_max_pooling1d_1 (Glob (None, 50)                0         \n",
      "_________________________________________________________________\n",
      "dense_8 (Dense)              (None, 10)                510       \n",
      "_________________________________________________________________\n",
      "dense_9 (Dense)              (None, 1)                 11        \n",
      "=================================================================\n",
      "Total params: 99,371\n",
      "Trainable params: 521\n",
      "Non-trainable params: 98,850\n",
      "_________________________________________________________________\n"
     ]
    }
   ],
   "source": [
    "model = Sequential()\n",
    "model.add(layers.Embedding(vocab_size, embedding_dim, \n",
    "                           weights=[embedding_matrix], \n",
    "                           input_length=maxlen, \n",
    "                           trainable=False))\n",
    "model.add(layers.GlobalMaxPool1D())\n",
    "model.add(layers.Dense(10, activation='relu'))\n",
    "model.add(layers.Dense(1, activation='sigmoid'))\n",
    "model.compile(optimizer='adam',\n",
    "              loss='binary_crossentropy',\n",
    "              metrics=['accuracy'])\n",
    "model.summary()"
   ]
  },
  {
   "cell_type": "code",
   "execution_count": 55,
   "metadata": {
    "button": false,
    "collapsed": false,
    "deletable": true,
    "new_sheet": false,
    "run_control": {
     "read_only": false
    }
   },
   "outputs": [
    {
     "name": "stdout",
     "output_type": "stream",
     "text": [
      "Training Accuracy: 0.8581\n",
      "Testing Accuracy:  0.7723\n"
     ]
    },
    {
     "data": {
      "image/png": "[encoded data removed]",
      "text/plain": [
       "<Figure size 864x360 with 2 Axes>"
      ]
     },
     "metadata": {},
     "output_type": "display_data"
    }
   ],
   "source": [
    "history = model.fit(X_train, y_train,\n",
    "                    epochs=50,\n",
    "                    verbose=False,\n",
    "                    validation_data=(X_test, y_test),\n",
    "                    batch_size=10)\n",
    "loss, accuracy = model.evaluate(X_train, y_train, verbose=False)\n",
    "print(\"Training Accuracy: {:.4f}\".format(accuracy))\n",
    "loss, accuracy = model.evaluate(X_test, y_test, verbose=False)\n",
    "print(\"Testing Accuracy:  {:.4f}\".format(accuracy))\n",
    "plot_history(history, 'word2vec_untrained')"
   ]
  },
  {
   "cell_type": "code",
   "execution_count": 56,
   "metadata": {
    "button": false,
    "collapsed": false,
    "deletable": true,
    "new_sheet": false,
    "run_control": {
     "read_only": false
    }
   },
   "outputs": [
    {
     "name": "stdout",
     "output_type": "stream",
     "text": [
      "Model: \"sequential_5\"\n",
      "_________________________________________________________________\n",
      "Layer (type)                 Output Shape              Param #   \n",
      "=================================================================\n",
      "embedding_3 (Embedding)      (None, 100, 50)           98850     \n",
      "_________________________________________________________________\n",
      "global_max_pooling1d_2 (Glob (None, 50)                0         \n",
      "_________________________________________________________________\n",
      "dense_10 (Dense)             (None, 10)                510       \n",
      "_________________________________________________________________\n",
      "dense_11 (Dense)             (None, 1)                 11        \n",
      "=================================================================\n",
      "Total params: 99,371\n",
      "Trainable params: 99,371\n",
      "Non-trainable params: 0\n",
      "_________________________________________________________________\n"
     ]
    }
   ],
   "source": [
    "model = Sequential()\n",
    "model.add(layers.Embedding(vocab_size, embedding_dim, \n",
    "                           weights=[embedding_matrix], \n",
    "                           input_length=maxlen, \n",
    "                           trainable=True))\n",
    "model.add(layers.GlobalMaxPool1D())\n",
    "model.add(layers.Dense(10, activation='relu'))\n",
    "model.add(layers.Dense(1, activation='sigmoid'))\n",
    "model.compile(optimizer='adam',\n",
    "              loss='binary_crossentropy',\n",
    "              metrics=['accuracy'])\n",
    "model.summary()"
   ]
  },
  {
   "cell_type": "code",
   "execution_count": 57,
   "metadata": {
    "button": false,
    "collapsed": false,
    "deletable": true,
    "new_sheet": false,
    "run_control": {
     "read_only": false
    }
   },
   "outputs": [
    {
     "name": "stdout",
     "output_type": "stream",
     "text": [
      "Training Accuracy: 1.0000\n",
      "Testing Accuracy:  0.9010\n"
     ]
    },
    {
     "data": {
      "image/png": "[encoded data removed]",
      "text/plain": [
       "<Figure size 864x360 with 2 Axes>"
      ]
     },
     "metadata": {},
     "output_type": "display_data"
    }
   ],
   "source": [
    "history = model.fit(X_train, y_train,\n",
    "                    epochs=50,\n",
    "                    verbose=False,\n",
    "                    validation_data=(X_test, y_test),\n",
    "                    batch_size=10)\n",
    "loss, accuracy = model.evaluate(X_train, y_train, verbose=False)\n",
    "print(\"Training Accuracy: {:.4f}\".format(accuracy))\n",
    "loss, accuracy = model.evaluate(X_test, y_test, verbose=False)\n",
    "print(\"Testing Accuracy:  {:.4f}\".format(accuracy))\n",
    "plot_history(history, 'word2vec_trained')"
   ]
  },
  {
   "cell_type": "code",
   "execution_count": null,
   "metadata": {
    "button": false,
    "collapsed": true,
    "deletable": true,
    "new_sheet": false,
    "run_control": {
     "read_only": false
    }
   },
   "outputs": [],
   "source": []
  }
 ],
 "metadata": {
  "kernelspec": {
   "display_name": "Python 3",
   "language": "python",
   "name": "python3"
  },
  "language_info": {
   "codemirror_mode": {
    "name": "ipython",
    "version": 3
   },
   "file_extension": ".py",
   "mimetype": "text/x-python",
   "name": "python",
   "nbconvert_exporter": "python",
   "pygments_lexer": "ipython3",
   "version": "3.8.3"
  }
 },
 "nbformat": 4,
 "nbformat_minor": 4
}
