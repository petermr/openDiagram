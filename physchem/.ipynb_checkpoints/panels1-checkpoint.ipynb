{
 "cells": [
  {
   "cell_type": "code",
   "execution_count": 1,
   "metadata": {
    "button": false,
    "new_sheet": false,
    "run_control": {
     "read_only": false
    }
   },
   "outputs": [
    {
     "name": "stderr",
     "output_type": "stream",
     "text": [
      "/opt/anaconda3/lib/python3.8/site-packages/skimage/viewer/utils/__init__.py:1: UserWarning: Recommended matplotlib backend is `Agg` for full skimage.viewer functionality.\n",
      "  from .core import *\n"
     ]
    },
    {
     "name": "stdout",
     "output_type": "stream",
     "text": [
      "Mon 30 Nov 2020 17:54:04 GMT\r\n"
     ]
    }
   ],
   "source": [
    "# figures and captions\n",
    "%matplotlib inline\n",
    "# http://kba.cloud/hocr-spec/1.2/\n",
    "from pathlib import Path\n",
    "import os\n",
    "# https://pypi.org/project/pytesseract/\n",
    "# If you don't have tesseract executable in your PATH, include the following:\n",
    "# pytesseract.pytesseract.tesseract_cmd = r'/#usr/local/bin/tesseract'\n",
    "# Example tesseract_cmd = r'C:\\Program Files (x86)\\Tesseract-OCR\\tesseract'\n",
    "import numpy as np\n",
    "import matplotlib.pyplot as plt\n",
    "from matplotlib.collections import PatchCollection\n",
    "from matplotlib.patches import Rectangle\n",
    "try:\n",
    "    from PIL import Image\n",
    "except ImportError:\n",
    "    import Image\n",
    "import Tesseract as tt\n",
    "import pytesseract36 as pytesseract\n",
    "# https://nanonets.com/blog/ocr-with-tesseract/\n",
    "import matplotlib\n",
    "import xml.etree.ElementTree as ET\n",
    "from skimage import data, img_as_float\n",
    "from skimage import exposure\n",
    "from skimage.viewer import ImageViewer\n",
    "\n",
    "\n",
    "%matplotlib inline\n",
    "import matplotlib.pyplot as plt\n",
    "\n",
    "import time\n",
    "import html2text\n",
    "import nltk\n",
    "%matplotlib inline\n",
    "\n",
    "\n",
    "\n",
    "HOME = str(Path.home())\n",
    "PROJECTS = os.path.join(HOME, \"projects\")\n",
    "WORKSPACE = os.path.join(HOME, \"workspace\")\n",
    "JUPYTER = os.path.join(WORKSPACE, \"jupyter\")\n",
    "\n",
    "!date"
   ]
  },
  {
   "cell_type": "code",
   "execution_count": 2,
   "metadata": {
    "button": false,
    "new_sheet": false,
    "run_control": {
     "read_only": false
    }
   },
   "outputs": [],
   "source": [
    "PHYSCHEM = os.path.join(JUPYTER, \"physchem\") \n",
    "PHYSCHEM_IMAGES = os.path.join(PHYSCHEM, \"images\") \n",
    "PHYSCHEM_LIION = os.path.join(PHYSCHEM, \"liion\") \n",
    "PHYSCHEM_HTML = os.path.join(PHYSCHEM, \"html\") "
   ]
  },
  {
   "cell_type": "code",
   "execution_count": 3,
   "metadata": {
    "button": false,
    "new_sheet": false,
    "run_control": {
     "read_only": false
    }
   },
   "outputs": [],
   "source": [
    "PROJECT_DIR = os.path.join(PHYSCHEM, \"liion\")\n"
   ]
  },
  {
   "cell_type": "code",
   "execution_count": 4,
   "metadata": {
    "button": false,
    "new_sheet": false,
    "run_control": {
     "read_only": false
    }
   },
   "outputs": [],
   "source": [
    "debug = True\n",
    "ml = False"
   ]
  },
  {
   "cell_type": "code",
   "execution_count": 5,
   "metadata": {},
   "outputs": [],
   "source": [
    "image = None\n",
    "IMAGE = \"image\"\n",
    "IMAGE_ARRAY = \"image_array\"\n",
    "\n",
    "CAPACITY_CYCLE = \"capacity_cycle\"\n",
    "RED_BLACK = \"red_black\"\n",
    "GREEN = \"green\"\n",
    "\n",
    "XMIN = \"xmin\"\n",
    "XMAX = \"xmax\"\n",
    "YMIN = \"ymin\"\n",
    "YMAX = \"ymax\"\n",
    "\n",
    "plot_dict = {}\n",
    "\n",
    "BOT_AXIS_TITLE = \"bot_axis_title\"\n",
    "BOT_AXIS_SCALE = \"bot_axis_scale\"\n",
    "BOT_AXIS_TICKS = \"bot_axis_ticks\"\n",
    "BOT_AXIS_LINE =  \"bot_axis_line\"\n",
    "\n",
    "LEFT_AXIS_TITLE = \"left_axis_title\"\n",
    "LEFT_AXIS_SCALE = \"left_axis_scale\"\n",
    "LEFT_AXIS_TICKS = \"left_axis_ticks\"\n",
    "LEFT_AXIS_LINE =  \"left_axis_line\"\n",
    "\n",
    "TOP_AXIS_TITLE = \"top_axis_title\"\n",
    "TOP_AXIS_SCALE = \"top_axis_scale\"\n",
    "TOP_AXIS_TICKS = \"top_axis_ticks\"\n",
    "TOP_AXIS_LINE =  \"top_axis_line\"\n",
    "\n",
    "RIGHT_AXIS_TITLE = \"right_axis_title\"\n",
    "RIGHT_AXIS_SCALE = \"right_axis_scale\"\n",
    "RIGHT_AXIS_TICKS = \"right_axis_ticks\"\n",
    "RIGHT_AXIS_LINE  = \"right_axis_line\"\n",
    "\n",
    "WHOLE_AREA     = \"whole_area\"\n",
    "BOTTOM_TRIMMED = \"bottom_trimmed\"\n",
    "\n",
    "PLOT_AREA = \"plot_area\"\n",
    "OSD = \"osd\"\n",
    "DATA = \"data\"\n",
    "\n"
   ]
  },
  {
   "cell_type": "code",
   "execution_count": 6,
   "metadata": {},
   "outputs": [],
   "source": [
    "CAPACITY_CYCLE = \"capacity_cycle\"\n",
    "def get_test_image(name=CAPACITY_CYCLE):\n",
    "    images = {\n",
    "        CAPACITY_CYCLE : os.path.join(PHYSCHEM_IMAGES, 'capacitycycle.png'),\n",
    "        RED_BLACK : os.path.join(PHYSCHEM_IMAGES, 'red_black_cv.png'),\n",
    "        GREEN : os.path.join(PHYSCHEM_LIION, 'PMC7077619/pdfimages/image.8.3.81_523.164_342/raw.png')\n",
    "    }\n",
    "    image_file = images.get(name)\n",
    "    if image_file == None:\n",
    "        print(\"no test image\", name)\n",
    "        return\n",
    "    image = Image.open(image_file, 'r')\n",
    "    if debug:\n",
    "        image.show()\n",
    "    print(\"image file\", type(image), type(image_file))\n",
    "    return (image, image_file)\n"
   ]
  },
  {
   "cell_type": "code",
   "execution_count": 7,
   "metadata": {},
   "outputs": [],
   "source": [
    "def create_image_with_margins(image_file):\n",
    "    \"\"\"https://stackoverflow.com/questions/11142851/adding-borders-to-an-image-using-python\"\"\"\n",
    "    import cv2\n",
    "\n",
    "    image = cv2.imread(image_file)\n",
    "    # cv2 uses BGR, so convert\n",
    "    img_rgb = cv2.cvtColor(img_cv, cv2.COLOR_BGR2RGB)\n",
    "\n",
    "    # color = [101, 52, 152] # 'cause purple!\n",
    "    color = [255, 255, 255]\n",
    "\n",
    "    # may need to remember these dimensions\n",
    "    top_border, bottom_border, left_border, right_border = [100]*4\n",
    "\n",
    "    img_with_border = cv2.copyMakeBorder(img_rgb, top_border, bottom_border, \n",
    "                    left_border, right_border, cv2.BORDER_CONSTANT, value=color)\n",
    "    return Image.fromarray(img_with_border)\n",
    "   "
   ]
  },
  {
   "cell_type": "code",
   "execution_count": 8,
   "metadata": {},
   "outputs": [],
   "source": [
    "def get_osd_dict():\n",
    "    tesseract = tt.Tesseract()\n",
    "    osd = tesseract.get_osd()\n",
    "    dict = pytesseract.osd_to_dict(osd)\n",
    "    if debug:\n",
    "        print(\"dict \", dict)\n",
    "    return dict\n"
   ]
  },
  {
   "cell_type": "code",
   "execution_count": 9,
   "metadata": {
    "button": false,
    "new_sheet": false,
    "run_control": {
     "read_only": false
    },
    "scrolled": true
   },
   "outputs": [],
   "source": [
    "# In order to bypass the image conversions of pytesseract, just use relative or absolute image path\n",
    "# NOTE: In this case you should provide tesseract supported images or tesseract will return error\n",
    "# print(pytesseract.image_to_string('test.png'))\n",
    "\n",
    "# Batch processing with a single file containing the list of multiple image file paths\n",
    "# print(pytesseract.image_to_string('images.txt'))\n",
    "\n",
    "# Timeout/terminate the tesseract job after a period of time\n",
    "\"\"\"\n",
    "try:\n",
    "    print(pytesseract.image_to_string('test.jpg', timeout=2)) # Timeout after 2 seconds\n",
    "    print(pytesseract.image_to_string('test.jpg', timeout=0.5)) # Timeout after half a second\n",
    "except RuntimeError as timeout_error:\n",
    "    # Tesseract processing is terminated\n",
    "    pass\n",
    "\"\"\"\n",
    "# Get bounding box estimates\n",
    "def get_tesseract_bboxes(image=image):\n",
    "    bboxes = pytesseract.image_to_boxes(image)\n",
    "    if debug:\n",
    "        print(bboxes[:100], \"\\n...\\n\", bboxes[-100:])\n",
    "    return bboxes"
   ]
  },
  {
   "cell_type": "code",
   "execution_count": 10,
   "metadata": {},
   "outputs": [],
   "source": [
    "def draw_boxes_round_tesseract_chars(image, imagefile):\n",
    "    import cv2\n",
    "    imagearray = np.array(image)\n",
    "    img = imagearray\n",
    "    h, w, c = imagearray.shape\n",
    "    print(h, w, c)\n",
    "    boxes = pytesseract.image_to_boxes(imagefile) \n",
    "    print(boxes[0])\n",
    "    for b in boxes.splitlines():\n",
    "        b = b.split(' ')\n",
    "        img = cv2.rectangle(img, (int(b[1]), h - int(b[2])), (int(b[3]), h - int(b[4])), (0, 255, 0), 2)\n",
    "\n",
    "    cv2.imshow('img', img)\n",
    "    cv2.waitKey(0)"
   ]
  },
  {
   "cell_type": "code",
   "execution_count": 11,
   "metadata": {},
   "outputs": [],
   "source": [
    "from contextlib import contextmanager\n",
    "from tempfile import NamedTemporaryFile\n",
    "@contextmanager \n",
    "def save(image):\n",
    "    try:\n",
    "        with NamedTemporaryFile(prefix='tess_', delete=False) as f:\n",
    "            if isinstance(image, str):\n",
    "                yield f.name, realpath(normpath(normcase(image)))\n",
    "                return\n",
    "\n",
    "            image, extension = prepare(image)\n",
    "            input_file_name = f.name + extsep + extension\n",
    "            image.save(input_file_name, format=image.format)\n",
    "            yield f.name, input_file_name\n",
    "    finally:\n",
    "        cleanup(f.name)\n"
   ]
  },
  {
   "cell_type": "code",
   "execution_count": 12,
   "metadata": {
    "button": false,
    "new_sheet": false,
    "run_control": {
     "read_only": false
    },
    "scrolled": true
   },
   "outputs": [],
   "source": [
    "def get_data_as_strings(image=image):\n",
    "# Get verbose data including boxes, confidences, line and page numbers\n",
    "# hocr may be better\n",
    "    data = pytesseract.image_to_data(image)\n",
    "    if debug:\n",
    "        print(type(data),\"\\n\", data[:200], \"\\n...\\n\", data[-200:])\n",
    "    plot_dict[DATA] = data\n",
    "    return data\n",
    "    "
   ]
  },
  {
   "cell_type": "code",
   "execution_count": 13,
   "metadata": {
    "button": false,
    "new_sheet": false,
    "run_control": {
     "read_only": false
    },
    "scrolled": true
   },
   "outputs": [],
   "source": [
    "def get_osd(image):\n",
    "# Get information about orientation and script detection\n",
    "    osd = pytesseract.image_to_osd(image)\n",
    "    if debug:\n",
    "        print(osd)\n",
    "    plot_dict[OSD] = osd\n",
    "    return osd"
   ]
  },
  {
   "cell_type": "code",
   "execution_count": 14,
   "metadata": {},
   "outputs": [],
   "source": [
    "def add_title_list_to_dict(key, value_list, dict):\n",
    "    \"\"\"add list to dict, converting to int or float if possible\"\"\"\n",
    "    try:\n",
    "        int_list = list(map(int, value_list)) \n",
    "        dict[key] = int_list\n",
    "    except ValueError: \n",
    "        try:\n",
    "            float_list = ['{:.2f}'.format(float(v)) for v in value_list]\n",
    "            dict[key] = float_list\n",
    "        except ValueError:\n",
    "            dict[key] = value_list\n",
    "            print(\" strings\", value_list)\n"
   ]
  },
  {
   "cell_type": "code",
   "execution_count": 15,
   "metadata": {},
   "outputs": [],
   "source": [
    "HTMLNS = \"{http://www.w3.org/1999/xhtml}\"\n",
    "UTF8 ='utf-8'\n",
    "\n",
    "TITLE = \"title\"\n",
    "BBOX  = \"bbox\"\n",
    "X_SIZE = \"x_size\"\n",
    "OCRX_WORD = \"ocrx_word\"\n",
    "OCR_LINE = \"ocr_line\"\n",
    "BASELINE = \"baseline\"\n",
    "TEXTANGLE = \"textangle\"\n",
    "\n",
    "def decode_title(elem):\n",
    "    \"\"\"decodes the hocr title attribute into a Python dictionary\"\"\"\n",
    "    title = elem.attrib[TITLE ]\n",
    "    params = title.split(\";\")\n",
    "    dict = {}\n",
    "    for param in params:\n",
    "        chunks = param.strip().split(\" \", 1)\n",
    "        key = chunks[0]\n",
    "        value_list = chunks[1].split(\" \")\n",
    "        add_title_list_to_dict(key, value_list, dict)\n",
    "    return dict"
   ]
  },
  {
   "cell_type": "code",
   "execution_count": 16,
   "metadata": {
    "button": false,
    "new_sheet": false,
    "run_control": {
     "read_only": false
    }
   },
   "outputs": [],
   "source": [
    "\n",
    "def get_tesseract_textboxes(image_file):    \n",
    "# Get HOCR output\n",
    "    \"\"\"\n",
    " <?xml version=\"1.0\" encoding=\"UTF-8\"?>\n",
    " <!DOCTYPE html PUBLIC \"-//W3C//DTD XHTML 1.0 Transitional//EN\"\n",
    "     \"http://www.w3.org/TR/xhtml1/DTD/xhtml1-transitional.dtd\">\n",
    " <html xmlns=\"http://www.w3.org/1999/xhtml\" xml:lang=\"en\" lang=\"en\">\n",
    "  <head>\n",
    "   <title></title>\n",
    "   <meta http-equiv=\"Content-Type\" content=\"text/html;charset=utf-8\"/>\n",
    "   <meta name='ocr-system' content='tesseract 4.1.1' />\n",
    "   <meta name='ocr-capabilities' content='ocr_page ocr_carea ocr_par ocr_line ocrx_word ocrp_wconf'/>\n",
    "  </head>\n",
    "  <body>\n",
    "   <div class='ocr_page' id='page_1' title='image \"/Users/pm286/workspace/jupyter/physchem/images/capacitycycle.png\"; bbox 0 0 830 652; ppageno 0'>\n",
    "    <div class='ocr_carea' id='block_1_1' title=\"bbox 2 93 40 486\">\n",
    "     <p class='ocr_par' id='par_1_1' lang='eng' title=\"bbox 2 93 40 486\">\n",
    "      <span class='ocr_line' id='line_1_1' title=\"bbox 2 93 40 486; textangle 90; x_size 38; x_descenders 6; x_ascenders 14\">\n",
    "       <span class='ocrx_word' id='word_1_1' title='bbox 10 374 40 486; x_wconf 96'>Specific</span>\n",
    "       <span class='ocrx_word' id='word_1_2' title='bbox 10 245 40 363; x_wconf 96'>capacity</span>\n",
    "       <span class='ocrx_word' id='word_1_3' title='bbox 10 175 40 233; x_wconf 93'>(mA</span>\n",
    "       <span class='ocrx_word' id='word_1_4' title='bbox 2 93 40 164; x_wconf 0'>hg’)</span>\n",
    "      </span>\n",
    "     </p>\n",
    "     \"\"\"\n",
    "\n",
    "    \n",
    "    hocr = pytesseract.image_to_pdf_or_hocr(image_file, extension='hocr')\n",
    "    hocr_html = hocr.decode(UTF8)\n",
    "    root = ET.fromstring(hocr_html)\n",
    "    hocrlines = hocr_html.split(\"\\n\")\n",
    "    if debug:\n",
    "        for hocrline in hocrlines[:25]:\n",
    "            print(\">>\", hocrline)\n",
    "    # namespaces...\n",
    "    xpathpara = \".//\" + HTMLNS + \"p\"\n",
    "    paras = root.findall(xpathpara)\n",
    "    if debug:\n",
    "        print(\"paras\", len(paras))\n",
    "    textboxes = []\n",
    "    for para in paras:\n",
    "        params = decode_title(para)\n",
    "        if params == None:\n",
    "            print(\"no para params\")\n",
    "        else:\n",
    "            pass\n",
    "        lines = para.findall(\"./\"+HTMLNS + \"span[@class='\"+OCR_LINE+\"']\")\n",
    "        for line in lines:\n",
    "            params = decode_title(line)\n",
    "            if params == None:\n",
    "                print(\"no line params\")\n",
    "            else:\n",
    "                xsize = params.get(X_SIZE)\n",
    "                baseline = params.get(BASELINE)\n",
    "                textangle = params.get(TEXTANGLE)\n",
    "                if debug:\n",
    "                    print(\"xsize \", xsize, \" baseline \", baseline, \"textangle \", textangle)\n",
    "            # descenders omitted\n",
    "            words = line.findall(\"./\"+HTMLNS + \"span[@class='\"+OCRX_WORD+\"']\")\n",
    "            for word in words:\n",
    "                params = decode_title(word)\n",
    "                if params == None:\n",
    "                    print(\"no word params\")\n",
    "                bbox = params.get(BBOX)\n",
    "                textboxes.append((word.text, bbox, textangle))\n",
    "                \n",
    "    if debug:\n",
    "        print(\">textboxes>\", textboxes[:6])\n",
    "    \n",
    "    return textboxes"
   ]
  },
  {
   "cell_type": "code",
   "execution_count": 17,
   "metadata": {},
   "outputs": [],
   "source": [
    "def make_image_from_xy(image_array, xlo, xhi, ylo, yhi):\n",
    "    # NOTE X AND Y ARE REVERSED IN IMAGE ARRAY\n",
    "    # and coordinates are from image bottom left\n",
    "    print(\"new image\", (xlo, xhi), (yhi, ylo))\n",
    "#    return image_array[ylo:yhi, xlo:xhi]\n",
    "    return image_array[yhi:ylo, xlo:xhi]\n"
   ]
  },
  {
   "cell_type": "code",
   "execution_count": 18,
   "metadata": {},
   "outputs": [],
   "source": [
    "import random\n",
    "def plot_box(title):\n",
    "    \n",
    "    image_array = plot_dict.get(IMAGE_ARRAY)\n",
    "    ymax = plot_dict.get(YMAX)\n",
    "    box = plot_dict.get(title)\n",
    "    print(\"box\", box, title, ymax)\n",
    "    img = make_image_from_xy(image_array, box[0], box[1], ymax - box[2], ymax - box[3])\n",
    "    if debug:\n",
    "        Image.fromarray(img).show()\n",
    "    # save image for tesseract\n",
    "    try:\n",
    "        dir = os.path.join(PHYSCHEM, \"temp\")\n",
    "        os.makedirs(dir, exist_ok=True)\n",
    "        file = os.path.join(dir, title +\".png\")\n",
    "        Image.fromarray(img).save(file)\n",
    "        print(\"saved \", file)\n",
    "#        file.close()\n",
    "        osd = get_osd(file)\n",
    "        print(\"osd\", osd)\n",
    "    except Exception as e:\n",
    "        print (\"TESSERACT ERROR \", e)\n",
    "#    temp_filename, image_filename = save(img)\n",
    "#    print(\"f \", temp_filename, image_filename)\n",
    "#    textboxes = get_tesseract_textboxes(image_filename)\n",
    "#    get_tesseract_textboxes(img)\n",
    "#    print(\"tb \", textboxes)\n",
    "    return img"
   ]
  },
  {
   "cell_type": "code",
   "execution_count": 19,
   "metadata": {},
   "outputs": [],
   "source": [
    "def get_image_and_shape(image):\n",
    "    \"\"\"store image array and its size in plot_dict\"\"\"\n",
    "\n",
    "    plot_dict[IMAGE] = image\n",
    "    image_array = np.array(image)\n",
    "    plot_dict[IMAGE_ARRAY] = image_array\n",
    "    xmin = 0\n",
    "    plot_dict[XMIN] = xmin\n",
    "    xmax = image_array.shape[1]\n",
    "    plot_dict[XMAX] = xmax\n",
    "    ymin = 0 \n",
    "    plot_dict[YMIN] = ymin\n",
    "    ymax = image_array.shape[0]\n",
    "    plot_dict[YMAX] = ymax\n",
    "    \n",
    "    return image_array, xmin, xmax, ymin, ymax\n"
   ]
  },
  {
   "cell_type": "code",
   "execution_count": 20,
   "metadata": {},
   "outputs": [],
   "source": [
    "def xscale(image):\n",
    "    \n",
    "    plot_box(BOT_AXIS_TITLE)\n",
    "    plot_box(BOT_AXIS_SCALE)\n",
    "    plot_box(BOT_AXIS_TICKS)\n",
    "    plot_box(BOT_AXIS_LINE)\n",
    "\n",
    "    plot_box(TOP_AXIS_LINE)\n"
   ]
  },
  {
   "cell_type": "code",
   "execution_count": 21,
   "metadata": {},
   "outputs": [],
   "source": [
    "def yscale(image):\n",
    "    \n",
    "    plot_box(LEFT_AXIS_TITLE)\n",
    "    plot_box(LEFT_AXIS_SCALE)\n",
    "    plot_box(LEFT_AXIS_TICKS)\n",
    "    plot_box(LEFT_AXIS_LINE)\n",
    "\n",
    "    plot_box(RIGHT_AXIS_LINE)\n",
    "    "
   ]
  },
  {
   "cell_type": "code",
   "execution_count": 22,
   "metadata": {},
   "outputs": [],
   "source": [
    "def section_scales(image):\n",
    "    xscale(image)\n",
    "    yscale(image)"
   ]
  },
  {
   "cell_type": "code",
   "execution_count": 23,
   "metadata": {},
   "outputs": [],
   "source": [
    "def section_area(image):\n",
    "    plot_box(PLOT_AREA)\n"
   ]
  },
  {
   "cell_type": "code",
   "execution_count": 24,
   "metadata": {},
   "outputs": [],
   "source": [
    "def create_sections(image):\n",
    "    \n",
    "    get_image_and_shape(image)\n",
    "    \n",
    "    xmin = plot_dict.get(XMIN)\n",
    "    xmax = plot_dict.get(XMAX)\n",
    "    ymin = plot_dict.get(YMIN)\n",
    "    ymax = plot_dict.get(YMAX)\n",
    "    print(\"xybox\", xmin, xmax, ymin, ymax)\n",
    "\n",
    "    yb0 = (0, 38)\n",
    "    yb1 = (38, 84)\n",
    "    yb2 = (86, 96)\n",
    "    yb3 = (98,103)\n",
    "    \n",
    "    xl0 = (0, 43)\n",
    "    xl1 = (43, 116)\n",
    "    xl2 = (116, 130)\n",
    "    xl3 = (129, 134)\n",
    "\n",
    "    yt0 = (650, 652)\n",
    "    yt1 = (648, 650)\n",
    "    yt2 = (646, 648)\n",
    "    yt3 = (632, 636)\n",
    "    \n",
    "    xr0 = (825, 830)\n",
    "    xr1 = (820, 825)\n",
    "    xr2 = (810, 820)\n",
    "    xr3 = (792, 797)\n",
    "\n",
    "    plot_dict[WHOLE_AREA] = (xmin, xmax, ymin, ymax) # for debugging\n",
    "    plot_dict[BOTTOM_TRIMMED] = (xmin, xmax, ymin + 50, ymax) # for debugging\n",
    "\n",
    "    plot_dict[BOT_AXIS_TITLE] = (xmin, xmax, yb0[0], yb0[1])\n",
    "    plot_dict[BOT_AXIS_SCALE] = (xmin, xmax, yb1[0], yb1[1])\n",
    "    plot_dict[BOT_AXIS_TICKS] = (xl3[0], xr3[1], yb2[0], yb2[1])\n",
    "    plot_dict[BOT_AXIS_LINE] =  (xl3[0], xr3[1], yb3[0], yb3[1])\n",
    "    \n",
    "\n",
    "    plot_dict[LEFT_AXIS_TITLE] = (xl0[0], xl0[1], ymin, ymax)\n",
    "    plot_dict[LEFT_AXIS_SCALE] = (xl1[0], xl1[1], ymin, ymax)\n",
    "    plot_dict[LEFT_AXIS_TICKS] = (xl2[0], xl2[1], yb3[0], yt3[1])\n",
    "    plot_dict[LEFT_AXIS_LINE] =  (xl3[0], xl3[1], yb3[0], yt3[1])\n",
    "\n",
    "    plot_dict[TOP_AXIS_TITLE] = (xmin, xmax, yt0[0], yt0[1])\n",
    "    plot_dict[TOP_AXIS_SCALE] = (xmin, xmax, yt1[0], yt1[1])\n",
    "    plot_dict[TOP_AXIS_TICKS] = (xl3[0], xr3[1], yt2[0], yt2[1])\n",
    "    plot_dict[TOP_AXIS_LINE] =  (xl3[0], xr3[1], yt3[0], yt3[1])\n",
    "    \n",
    "    plot_dict[RIGHT_AXIS_TITLE] = (xr0[0], xr0[1], ymin, ymax)\n",
    "    plot_dict[RIGHT_AXIS_SCALE] = (xr1[0], xr1[1], ymin, ymax)\n",
    "    plot_dict[RIGHT_AXIS_TICKS] = (xr2[0], xr2[1], yb3[0], yt3[1])\n",
    "    plot_dict[RIGHT_AXIS_LINE] =  (xr3[0], xr3[1], yb3[0], yt3[1])\n",
    "    \n",
    "          \n",
    "    plot_dict[PLOT_AREA] = (xl3[1], xr3[0], yb3[1], yt3[0])"
   ]
  },
  {
   "cell_type": "code",
   "execution_count": 25,
   "metadata": {},
   "outputs": [],
   "source": [
    "def plot_sections():\n",
    "    section_scales(image)\n",
    "    section_area(image)\n",
    "    "
   ]
  },
  {
   "cell_type": "code",
   "execution_count": 26,
   "metadata": {},
   "outputs": [],
   "source": [
    "def make_boxes(textboxes, facecolor='r',\n",
    "                     edgecolor='None', alpha=0.5):\n",
    "    \"\"\"textboxes are (text, numeric_bbox)\"\"\"\n",
    "    rects = []\n",
    "    x = []\n",
    "    y = []\n",
    "    texts = []\n",
    "    for textbox in textboxes:\n",
    "        text = textbox[0]\n",
    "        box = textbox[1]\n",
    "        x0 = box[0]\n",
    "        y0 = box[1]\n",
    "        x1 = box[2]\n",
    "        y1 = box[3]\n",
    "        x.append(x0)\n",
    "        y.append(y0)\n",
    "        rect = Rectangle((x0, y0), x1 - x0 , y1 - y0, fill=False, facecolor=facecolor, lw=1, ec=edgecolor)\n",
    "        texts.append((x0, y0, text))\n",
    "        rects.append(rect)\n",
    "\n",
    "    return x,y,rects, texts"
   ]
  },
  {
   "cell_type": "code",
   "execution_count": 27,
   "metadata": {},
   "outputs": [],
   "source": [
    "def create_baselines(textboxes):\n",
    "    from collections import Counter\n",
    "    \"\"\"\n",
    "        origin is 0,0 so positive y is closest to normal bottom\n",
    "        also text baselines are more positive \n",
    "        text may be rotated in either direction\n",
    "    \"\"\"\n",
    "    ytop = Counter()\n",
    "    ybot= Counter()\n",
    "    xleft = Counter()\n",
    "    xright = Counter()\n",
    "    xbase90 = Counter()\n",
    "    for textbox in textboxes:\n",
    "        text = textbox[0]\n",
    "        box = textbox[1]\n",
    "        rot = 0 if textbox[2] == None else textbox[2][0]  \n",
    "        print(textbox)\n",
    "        x0 = box[0]\n",
    "        y0 = box[1]\n",
    "        x1 = box[2]\n",
    "        y1 = box[3]\n",
    "        width = x1 - x0\n",
    "        height = y1 - y0\n",
    "        if rot == 90:\n",
    "            xbase90[x1] += 1\n",
    "        elif rot == -90 or rot == 270:\n",
    "            pass\n",
    "        else:  # normal\n",
    "#        y0 is the top of the box, y1 is normally baseline\n",
    "            ytop[y0] += 1    # top of horizontal text\n",
    "            ybot[y1] += 1    # baseline of horizontal text\n",
    "            xleft[x0] += 1   # useful for l-justified ladders\n",
    "            xright[x1] += 1  # useful for r-justified ladders\n",
    "\n",
    "    print(\"\\nxleft\\n \", xleft, \"\\nxright\\n\", xright, \"\\nytop\\n \", ytop, \n",
    "          \"\\nybot\\n\", ybot, \"\\nxbase90\\n\", xbase90)\n",
    "    \n",
    "    "
   ]
  },
  {
   "cell_type": "code",
   "execution_count": 28,
   "metadata": {
    "scrolled": false
   },
   "outputs": [],
   "source": [
    "def plot_textboxes(textboxes):\n",
    "    x, y, rects, texts = make_boxes(textboxes)\n",
    "\n",
    "    fig,ax = plt.subplots(1)\n",
    "    ax.imshow(image)\n",
    "\n",
    "    for text in texts:\n",
    "        plt.text(text[0], text[1], text[2], color='blue', alpha=0.5)\n",
    "    for rect in rects:\n",
    "        ax.add_patch(rect)\n",
    "        pass\n",
    "\n",
    "    plt.show()\n",
    "    \n",
    "    "
   ]
  },
  {
   "cell_type": "code",
   "execution_count": 29,
   "metadata": {
    "button": false,
    "new_sheet": false,
    "run_control": {
     "read_only": false
    }
   },
   "outputs": [],
   "source": [
    "def get_xml_png_for_corpus(path):\n",
    "    if path == None:\n",
    "        path = os.path.join(PHYSCHEM, 'liion')\n",
    "\n",
    "    cwd = os.getcwd()\n",
    "    os.chdir(path)\n",
    "    xml_files = glob.glob(\"**/sections/*/fig*.xml\")\n",
    "    if debug:\n",
    "        print(\"liions \", len(liions))\n",
    "\n",
    "    png_files = glob.glob(\"**/pdfimages/**/raw.png\")\n",
    "    if debug:\n",
    "        print(\"liions pngs\", len(liionpngs)) \n",
    "    os.chdir(cwd)\n",
    "    return xml_files, png_files"
   ]
  },
  {
   "cell_type": "code",
   "execution_count": 30,
   "metadata": {
    "button": false,
    "new_sheet": false,
    "run_control": {
     "read_only": false
    },
    "scrolled": false
   },
   "outputs": [],
   "source": [
    "def make_corpus_for_nltk():\n",
    "\n",
    "    # print(liionpngs)\n",
    "    maxcount = 20\n",
    "    minlen = 2\n",
    "    corpus =[]\n",
    "    wordzz = []\n",
    "    stopwords = set(['oo'])\n",
    "    for count, liionpng in enumerate(liionpngs[:maxcount]):\n",
    "        if count % 10 == 0:\n",
    "            print (\"img \", count, liionpng)\n",
    "    #    img = Image.open(liionpng)\n",
    "    #    plt.figure()\n",
    "    #    plt.imshow(np.asarray(img))\n",
    "    #    plt.imshow(img)\n",
    "\n",
    "        hocr_file = os.path.join(os.path.split(liionpng)[0], 'hocr.html')\n",
    "        hocr = pytesseract.image_to_pdf_or_hocr(liionpng, extension='hocr')\n",
    "        with open(hocr_file, 'w+b') as f:\n",
    "            f.write(hocr) # hocr\n",
    "        html = open(hocr_file).read()\n",
    "        htmltext = html2text.html2text(html)\n",
    "        words = nltk.word_tokenize(htmltext)\n",
    "        words = [word for word in words if len(word) >= minlen and not word.isnumeric()\\\n",
    "                and not word.lower() in stopwords]\n",
    "        if len(words) > 0:\n",
    "            text = \" \".join(words)\n",
    "        #    print(\"words\", np.array(words))\n",
    "            corpus.append(text)\n",
    "            for word in words:\n",
    "                wordzz.append(word)\n",
    "    print(\"words\", wordzz)            \n",
    "    from collections import Counter\n",
    "    c = Counter(wordzz) \n",
    "    print(len(c))\n",
    "    print(c.most_common(20))\n",
    "    print(\"text list\", len(corpus))\n",
    "    normalize_corpus = np.vectorize(corpus)\n",
    "    # print(corpus)\n",
    "            "
   ]
  },
  {
   "cell_type": "code",
   "execution_count": 31,
   "metadata": {},
   "outputs": [],
   "source": [
    "if __name__ == '__main__':\n",
    "    pass\n"
   ]
  },
  {
   "cell_type": "code",
   "execution_count": null,
   "metadata": {
    "scrolled": true
   },
   "outputs": [
    {
     "name": "stdout",
     "output_type": "stream",
     "text": [
      "image file <class 'PIL.PngImagePlugin.PngImageFile'> <class 'str'>\n",
      "<class 'PIL.PngImagePlugin.PngImageFile'> <PIL.PngImagePlugin.PngImageFile image mode=RGBA size=850x641 at 0x7F7FA56DF790> <class 'str'> /Users/pm286/workspace/jupyter/physchem/images/red_black_cv.png\n",
      "641 850 4\n",
      "1\n"
     ]
    }
   ],
   "source": [
    "image_array = []\n",
    "image, image_file = get_test_image(RED_BLACK)\n",
    "print(type(image), image, type(image_file), image_file)\n",
    "draw_boxes_round_tesseract_chars(image, image_file)\n",
    "if debug:\n",
    "    print(image, image_file)\n",
    "debug = False    \n",
    "textboxes = get_tesseract_textboxes(image_file)\n",
    "plot_textboxes(textboxes)\n",
    "create_baselines(textboxes)\n",
    "create_sections(image)\n",
    "# plot_sections()\n",
    "# plot_box(WHOLE_AREA)\n",
    "plot_box(BOTTOM_TRIMMED)\n",
    "\n"
   ]
  },
  {
   "cell_type": "code",
   "execution_count": null,
   "metadata": {
    "button": false,
    "new_sheet": false,
    "run_control": {
     "read_only": false
    }
   },
   "outputs": [],
   "source": [
    "print(\"FINISHED\")"
   ]
  },
  {
   "cell_type": "code",
   "execution_count": null,
   "metadata": {},
   "outputs": [],
   "source": []
  }
 ],
 "metadata": {
  "kernelspec": {
   "display_name": "Python 3",
   "language": "python",
   "name": "python3"
  },
  "language_info": {
   "codemirror_mode": {
    "name": "ipython",
    "version": 3
   },
   "file_extension": ".py",
   "mimetype": "text/x-python",
   "name": "python",
   "nbconvert_exporter": "python",
   "pygments_lexer": "ipython3",
   "version": "3.8.3"
  }
 },
 "nbformat": 4,
 "nbformat_minor": 4
}
