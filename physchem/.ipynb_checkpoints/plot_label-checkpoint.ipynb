{
 "cells": [
  {
   "cell_type": "code",
   "execution_count": 3,
   "metadata": {
    "button": false,
    "new_sheet": false,
    "run_control": {
     "read_only": false
    }
   },
   "outputs": [],
   "source": [
    "%matplotlib inline\n",
    "\n",
    "import os\n",
    "HOME = os.path.expanduser(\"~\")\n",
    "JUPYTER = os.path.join(HOME, \"workspace\", \"jupyter\")\n",
    "IMAGES = os.path.join(JUPYTER, \"physchem\", \"images\")\n",
    "PHYSCHEM_LIION = os.path.join(JUPYTER, \"physchem\", \"liion\")"
   ]
  },
  {
   "cell_type": "code",
   "execution_count": 5,
   "metadata": {},
   "outputs": [],
   "source": [
    "def find_components_and_thin(image_file):\n",
    "    print(\"f\", image_file, os.path.exists(image_file))\n",
    "    label_binary(image_file, img_count=4, thresh=180)\n",
    "\n",
    "    thin_binary(image_file)"
   ]
  },
  {
   "cell_type": "code",
   "execution_count": 10,
   "metadata": {},
   "outputs": [
    {
     "ename": "AttributeError",
     "evalue": "'function' object has no attribute 'physchem_image_dict'",
     "output_type": "error",
     "traceback": [
      "\u001b[0;31m---------------------------------------------------------------------------\u001b[0m",
      "\u001b[0;31mAttributeError\u001b[0m                            Traceback (most recent call last)",
      "\u001b[0;32m<ipython-input-10-a55e4a9a8517>\u001b[0m in \u001b[0;36m<module>\u001b[0;34m\u001b[0m\n\u001b[1;32m     19\u001b[0m     \u001b[0;32mreturn\u001b[0m \u001b[0mimgdict\u001b[0m\u001b[0;34m\u001b[0m\u001b[0;34m\u001b[0m\u001b[0m\n\u001b[1;32m     20\u001b[0m \"\"\"\n\u001b[0;32m---> 21\u001b[0;31m \u001b[0mimgdict\u001b[0m \u001b[0;34m=\u001b[0m \u001b[0midict\u001b[0m\u001b[0;34m.\u001b[0m\u001b[0mphyschem_image_dict\u001b[0m\u001b[0;34m(\u001b[0m\u001b[0;34m)\u001b[0m\u001b[0;34m\u001b[0m\u001b[0;34m\u001b[0m\u001b[0m\n\u001b[0m\u001b[1;32m     22\u001b[0m \u001b[0mprint\u001b[0m\u001b[0;34m(\u001b[0m\u001b[0;34m\"imgdict\"\u001b[0m\u001b[0;34m,\u001b[0m \u001b[0mimgdict\u001b[0m\u001b[0;34m.\u001b[0m\u001b[0mkeys\u001b[0m\u001b[0;34m(\u001b[0m\u001b[0;34m)\u001b[0m\u001b[0;34m)\u001b[0m\u001b[0;34m\u001b[0m\u001b[0;34m\u001b[0m\u001b[0m\n\u001b[1;32m     23\u001b[0m \u001b[0;34m\u001b[0m\u001b[0m\n",
      "\u001b[0;31mAttributeError\u001b[0m: 'function' object has no attribute 'physchem_image_dict'"
     ]
    }
   ],
   "source": [
    "from labels import label_binary, thin_binary\n",
    "from physchemImages import physchem_image_dict as idict\n",
    "\"\"\"\n",
    "def physchem_image_dict():\n",
    "    import os\n",
    "    HOME = os.path.expanduser(\"~\")\n",
    "    JUPYTER = os.path.join(HOME, \"workspace\", \"jupyter\")\n",
    "    IMAGES = os.path.join(JUPYTER, \"physchem\", \"images\")\n",
    "    PHYSCHEM_LIION = os.path.join(JUPYTER, \"physchem\", \"liion\")\n",
    "    PHYSCHEM_IMAGES = os.path.join(JUPYTER, \"physchem\", \"images\")\n",
    "    imgdict = {\"RED_BLACK\" : os.path.join(PHYSCHEM_IMAGES, \"red_black_cv.png\"),\n",
    "            \"CAPACITY\" : os.path.join(PHYSCHEM_IMAGES, \"capacitycycle.png\"),\n",
    "            \"GREEN\" : os.path.join(PHYSCHEM_LIION, 'PMC7077619/pdfimages/image.8.3.81_523.164_342/raw.png'),\n",
    "            \"PANEL2\" : os.path.join(PHYSCHEM_LIION, 'PMC7075112/pdfimages/image.5.2.98_499.292_449/raw.png'),\n",
    "            \"PLOT2\" : os.path.join(PHYSCHEM_LIION, 'PMC7075112/pdfimages/image.4.3.117_479.722_864/raw.png'),\n",
    "            \"PLOT3\" : os.path.join(PHYSCHEM_LIION, 'PMC7074852/pdfimages/image.7.3.86_507.385_495/raw.png'),\n",
    "            \"PLOT32\" : os.path.join(PHYSCHEM_LIION, 'PMC7067258/pdfimages/image.5.1.52_283.71_339/raw.png'),\n",
    "              }\n",
    "    return imgdict\n",
    "\"\"\"\n",
    "imgdict = physchem_image_dict()\n",
    "print(\"imgdict\", imgdict.keys())\n",
    "\n",
    "# https://note.nkmk.me/en/python-numpy-opencv-image-binarization/\n",
    "import scipy.ndimage\n",
    "from PIL import Image\n",
    "import numpy as np\n",
    "from collections import Counter\n",
    "\n",
    "name = \"PLOT2\"\n",
    "name = \"GREEN\"        \n",
    "name = \"RED_BLACK\"\n",
    "\n",
    "for name in imgdict.keys():\n",
    "    print(name)\n",
    "    image_file = imgdict[name]\n",
    "    find_components_and_thin(image_file)"
   ]
  },
  {
   "cell_type": "code",
   "execution_count": 19,
   "metadata": {
    "scrolled": false
   },
   "outputs": [
    {
     "name": "stdout",
     "output_type": "stream",
     "text": [
      "[[1 2 3]\n",
      " [4 5 6]\n",
      " [7 8 9]]\n"
     ]
    }
   ],
   "source": [
    "\n",
    "def save_as_csv(image_file):\n",
    "    import numpy as np\n",
    "    \"\"\" NOT WORKING\"\"\"\n",
    "    a = np.asarray([ [1,2,3], [4,5,6], [7,8,9] ], dtype=np.uint8)\n",
    "    print(a)\n",
    "    np.savetxt(\"foox.csv\", a, delimiter=\",\", fmt=\"%5.0f\")\n",
    "    \n",
    "save_as_csv(\"foo.xxx\")"
   ]
  },
  {
   "cell_type": "markdown",
   "metadata": {
    "button": false,
    "new_sheet": false,
    "run_control": {
     "read_only": false
    }
   },
   "source": [
    "\n",
    "# Label image regions\n",
    "\n",
    "\n",
    "This example shows how to segment an image with image labelling. The following\n",
    "steps are applied:\n",
    "\n",
    "1. Thresholding with automatic Otsu method\n",
    "2. Close small holes with binary closing\n",
    "3. Remove artifacts touching image border\n",
    "4. Measure image regions to filter small objects\n"
   ]
  },
  {
   "cell_type": "code",
   "execution_count": null,
   "metadata": {
    "button": false,
    "new_sheet": false,
    "run_control": {
     "read_only": false
    }
   },
   "outputs": [],
   "source": [
    "import matplotlib.pyplot as plt\n",
    "import matplotlib.patches as mpatches\n",
    "\n",
    "from skimage import data\n",
    "from skimage.filters import threshold_otsu\n",
    "from skimage.segmentation import clear_border\n",
    "from skimage.measure import label, regionprops\n",
    "from skimage.morphology import closing, square\n",
    "from skimage.color import label2rgb\n",
    "\n",
    "\n",
    "# image = data.coins()[50:-50, 50:-50]\n",
    "# requires grayscale\n",
    "def labels(image):\n",
    "    print(\"OTSU not yet implemented\")\n",
    "    return\n",
    "\n",
    "    # apply threshold\n",
    "    thresh = threshold_otsu(image)\n",
    "    bw = closing(image > thresh, square(3))\n",
    "\n",
    "    # remove artifacts connected to image border\n",
    "    cleared = clear_border(bw)\n",
    "\n",
    "    # label image regions\n",
    "    label_image = label(cleared)\n",
    "    # to make the background transparent, pass the value of `bg_label`,\n",
    "    # and leave `bg_color` as `None` and `kind` as `overlay`\n",
    "    image_label_overlay = label2rgb(label_image, image=image, bg_label=0)\n",
    "\n",
    "    fig, ax = plt.subplots(figsize=(10, 6))\n",
    "    ax.imshow(image_label_overlay)\n",
    "\n",
    "    for region in regionprops(label_image):\n",
    "        # take regions with large enough areas\n",
    "        if region.area >= 100:\n",
    "            # draw rectangle around segmented coins\n",
    "            minr, minc, maxr, maxc = region.bbox\n",
    "            rect = mpatches.Rectangle((minc, minr), maxc - minc, maxr - minr,\n",
    "                                      fill=False, edgecolor='red', linewidth=2)\n",
    "            ax.add_patch(rect)\n",
    "\n",
    "    ax.set_axis_off()\n",
    "    plt.tight_layout()\n",
    "    plt.show()\n",
    "    \n",
    "JUPYTER = \"/Users/pm286/workspace/jupyter\"\n",
    "import os\n",
    "import numpy as np\n",
    "from PIL import Image\n",
    "imagefile = os.path.join(JUPYTER, \"physchem\", \"images\", \"red_black_cv.png\")\n",
    "image = Image.open(imagefile).convert('LA')\n",
    "print(\"image\", type(image))\n",
    "labels = labels(image)\n",
    "print(\"labels \", labels)"
   ]
  },
  {
   "cell_type": "code",
   "execution_count": null,
   "metadata": {
    "button": false,
    "new_sheet": false,
    "run_control": {
     "read_only": false
    }
   },
   "outputs": [],
   "source": [
    "\n",
    "if __name__ == \"__main__\":\n",
    "    import sys\n",
    "    \n",
    "#    main(sys.argv[1:])        \n",
    "print(\"FINISHED\")"
   ]
  }
 ],
 "metadata": {
  "kernelspec": {
   "display_name": "Python 3",
   "language": "python",
   "name": "python3"
  },
  "language_info": {
   "codemirror_mode": {
    "name": "ipython",
    "version": 3
   },
   "file_extension": ".py",
   "mimetype": "text/x-python",
   "name": "python",
   "nbconvert_exporter": "python",
   "pygments_lexer": "ipython3",
   "version": "3.8.3"
  }
 },
 "nbformat": 4,
 "nbformat_minor": 1
}
