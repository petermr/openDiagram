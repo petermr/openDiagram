{
 "cells": [
  {
   "cell_type": "code",
   "execution_count": null,
   "metadata": {},
   "outputs": [],
   "source": [
    "from lxml import etree\n",
    "from lxml.isoschematron import Schematron\n",
    "\n",
    "schematron = Schematron(etree.XML('''\n",
    "<schema xmlns=\"http://purl.oclc.org/dsdl/schematron\" >\n",
    "  <pattern id=\"id_only_attribute\">\n",
    "    <title>id is the only permitted attribute name</title>\n",
    "    <rule context=\"*\">\n",
    "      <report test=\"@*[not(name()='id')]\">Attribute\n",
    "        <name path=\"@*[not(name()='id')]\"/> is forbidden<name/>\n",
    "      </report>\n",
    "    </rule>\n",
    "  </pattern>\n",
    "</schema>'''),\n",
    "error_finder=Schematron.ASSERTS_AND_REPORTS)\n",
    "\n",
    "dir(schematron)\n"
   ]
  }
 ],
 "metadata": {
  "kernelspec": {
   "display_name": "Python 3",
   "language": "python",
   "name": "python3"
  },
  "language_info": {
   "codemirror_mode": {
    "name": "ipython",
    "version": 3
   },
   "file_extension": ".py",
   "mimetype": "text/x-python",
   "name": "python",
   "nbconvert_exporter": "python",
   "pygments_lexer": "ipython3",
   "version": "3.8.3"
  }
 },
 "nbformat": 4,
 "nbformat_minor": 4
}
